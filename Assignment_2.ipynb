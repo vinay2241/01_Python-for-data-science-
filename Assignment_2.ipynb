{
 "cells": [
  {
   "cell_type": "markdown",
   "id": "e8a699ef-dc35-43f9-a69d-d9f0634655b2",
   "metadata": {},
   "source": [
    "Q1. How do you comment code in Python? What are the different types of comments?"
   ]
  },
  {
   "cell_type": "markdown",
   "id": "b24d2444-c4a6-4df3-9c32-10b0f125e7bf",
   "metadata": {},
   "source": [
    "--> Comments in the python are un executble statements.\n",
    "--> They provide the information to the programmer about the code\n",
    "--> Comments written in by single line and multiline\n",
    "--> Adding the # (Hash) symbol for single line and (''' ''') for multiline comment"
   ]
  },
  {
   "cell_type": "markdown",
   "id": "3c9ffdd4-6888-472a-9d9e-a7deaccd31d2",
   "metadata": {},
   "source": [
    "Q2. What are variables in Python? How do you declare and assign values to variables?"
   ]
  },
  {
   "cell_type": "markdown",
   "id": "9321e704-99c7-43ae-be64-4330bf0148b0",
   "metadata": {},
   "source": [
    " Variables in Python are used to store data values. They are like containers that hold different types of data, such as numbers, strings, or objects.\n",
    "- To declare a variable in Python, you simply choose a name for the variable and assign a value to it using the assignment operator (`=`).\n",
    "- Variable names in Python can contain letters, numbers, and underscores, but they must start with a letter or an underscore. They are case-sensitive."
   ]
  },
  {
   "cell_type": "markdown",
   "id": "a4680e67-fdc7-44a1-a88b-4e66084c0c72",
   "metadata": {},
   "source": [
    "Q3. How do you convert one data type to another in Python?"
   ]
  },
  {
   "cell_type": "markdown",
   "id": "887a3658-7224-483e-a82f-2df00c26361a",
   "metadata": {},
   "source": [
    "\n",
    "- Python provides methods for converting one data type to another.\n",
    "- Implicit type conversion occurs automatically when performing operations involving different data types.\n",
    "- Explicit type conversion, also known as type casting, allows you to manually convert data types using type conversion functions or constructors.\n",
    "- Common type conversion functions and constructors include:\n",
    "  - `int()`: Converts a value to an integer.\n",
    "  - `float()`: Converts a value to a float.\n",
    "  - `str()`: Converts a value to a string.\n",
    "  - `list()`: Converts an iterable to a list.\n",
    "  - `tuple()`: Converts an iterable to a tuple.\n",
    "  - `dict()`: Converts a sequence of key-value pairs to a dictionary.\n",
    "- Type conversion functions and constructors can be used to convert values between different data types as needed.\n",
    "- These conversions are helpful when you need to ensure compatibility or perform specific operations with different data types.\n",
    "\n"
   ]
  },
  {
   "cell_type": "markdown",
   "id": "c94bf81f-2a0d-4621-93a3-73396042ecc0",
   "metadata": {
    "tags": []
   },
   "source": [
    "Q4. How do you write and execute a Python script from the command line?"
   ]
  },
  {
   "cell_type": "markdown",
   "id": "3e46f52d-a265-4cf4-bff5-e615f9f16d25",
   "metadata": {},
   "source": [
    "\n",
    "\n",
    "- To write and execute a Python script from the command line, follow these steps:\n",
    "  1. Open a text editor or IDE to write your Python code.\n",
    "  2. Save the Python script with a `.py` extension, such as `script.py`.\n",
    "  3. Open the command line or terminal on your operating system.\n",
    "  4. Use the `cd` command to navigate to the directory where your Python script is saved.\n",
    "  5. Execute the Python script by running `python script.py` in the command line.\n",
    "     - If you have both Python 2 and Python 3 installed, use `python3` instead of `python`.\n",
    "  6. Press Enter to run the command and observe the output or any error messages on the command line.\n",
    "\n"
   ]
  },
  {
   "cell_type": "markdown",
   "id": "e32c73c0-06c6-4a2f-b123-9c9646504531",
   "metadata": {},
   "source": [
    "Q5. Given a list my_list = [1, 2, 3, 4, 5], write the code to slice the list and obtain the sub-list [2, 3]."
   ]
  },
  {
   "cell_type": "code",
   "execution_count": null,
   "id": "cae607ed-81c2-414f-a374-326bd94846ac",
   "metadata": {
    "tags": []
   },
   "outputs": [],
   "source": [
    "my_list = [1, 2, 3, 4, 5]\n",
    "print(my_list[1:3]) "
   ]
  },
  {
   "cell_type": "markdown",
   "id": "e6ccd905-3318-4288-a942-08a22a0c0ce3",
   "metadata": {
    "tags": []
   },
   "source": [
    "Q6. What is a complex number in mathematics, and how is it represented in Python?"
   ]
  },
  {
   "cell_type": "markdown",
   "id": "ef37c40f-e6b9-4a3a-8cc3-bd855008fc5e",
   "metadata": {
    "tags": []
   },
   "source": [
    "- Complex number in the mathematics is represented in the form of a+jb, where a is called real part and b is called imaginary part.\n",
    "- In Python Complex Number is represented by the datatype called called `complex()`.\n",
    "- Where Real Part is Any Number and Imaginary Number is represented with the Lower case `j` and Number"
   ]
  },
  {
   "cell_type": "code",
   "execution_count": 16,
   "id": "f7a80a32-8ad9-4395-b082-2846cc393349",
   "metadata": {
    "tags": []
   },
   "outputs": [
    {
     "name": "stdout",
     "output_type": "stream",
     "text": [
      "(2+3j)\n"
     ]
    }
   ],
   "source": [
    "a = 2+3j\n",
    "print(a)"
   ]
  },
  {
   "cell_type": "markdown",
   "id": "cd6ce287-8f91-4d36-8569-a65e85d036a8",
   "metadata": {},
   "source": [
    "Q7. What is the correct way to declare a variable named age and assign the value 25 to it?"
   ]
  },
  {
   "cell_type": "code",
   "execution_count": 23,
   "id": "a35674b6-0684-4f72-9238-ae831b36c58a",
   "metadata": {
    "tags": []
   },
   "outputs": [
    {
     "name": "stdout",
     "output_type": "stream",
     "text": [
      "25\n",
      "25\n",
      "25\n",
      "25\n"
     ]
    }
   ],
   "source": [
    "Age = 25\n",
    "print(Age)\n",
    "\n",
    "age = 25\n",
    "print(age)\n",
    "\n",
    "_age = 25\n",
    "print(_age)\n",
    "\n",
    "_Age =25\n",
    "print(_Age)\n"
   ]
  },
  {
   "cell_type": "markdown",
   "id": "0e14a1a5-3680-4228-97b4-e13d6e619e30",
   "metadata": {},
   "source": [
    "Q8. Declare a variable named price and assign the value 9.99 to it. What data type does this variable\n",
    "belong to?"
   ]
  },
  {
   "cell_type": "code",
   "execution_count": 26,
   "id": "62aa88f1-4b0c-4529-b478-e879ff371004",
   "metadata": {
    "tags": []
   },
   "outputs": [
    {
     "name": "stdout",
     "output_type": "stream",
     "text": [
      "9.99\n",
      "<class 'float'>\n"
     ]
    }
   ],
   "source": [
    "price = 9.99\n",
    "print(price)\n",
    "print(type(price)) #Printing the Datatype"
   ]
  },
  {
   "cell_type": "markdown",
   "id": "a73c0d0a-ea3d-4b95-bc5f-1917f86b19e4",
   "metadata": {},
   "source": [
    "Q9. Create a variable named name and assign your full name to it as a string. How would you print the\n",
    "value of this variable?"
   ]
  },
  {
   "cell_type": "code",
   "execution_count": 28,
   "id": "f112f1e1-759a-4405-b0a0-ddbf77775e0e",
   "metadata": {
    "tags": []
   },
   "outputs": [
    {
     "name": "stdout",
     "output_type": "stream",
     "text": [
      "Ningaraja D B\n",
      "<class 'str'>\n"
     ]
    }
   ],
   "source": [
    "name = 'Ningaraja D B'\n",
    "print(name)\n",
    "print(type(name))"
   ]
  },
  {
   "cell_type": "markdown",
   "id": "7e2a7139-e7b8-4d19-9e52-9463417c78e5",
   "metadata": {},
   "source": [
    "Q10. Given the string \"Hello, World!\", extract the substring \"World\"."
   ]
  },
  {
   "cell_type": "code",
   "execution_count": 53,
   "id": "f95cc2ab-6992-4992-b136-53909387a91e",
   "metadata": {
    "tags": []
   },
   "outputs": [
    {
     "name": "stdout",
     "output_type": "stream",
     "text": [
      "World\n",
      "7\n"
     ]
    }
   ],
   "source": [
    "string = 'Hello, World!'\n",
    "print(string[7:12])\n",
    "\n",
    "#To find the wheter a character is present in the Given String or Not?\n",
    "#We Use the .find() Method to get the Index of the character in the Given String\n",
    "print(string.find('World!'))"
   ]
  },
  {
   "cell_type": "markdown",
   "id": "ccaa9105-6e95-44e9-bed1-9e95dd883d5c",
   "metadata": {},
   "source": [
    "Q11. Create a variable named \"is_student\" and assign it a boolean value indicating whether you are\n",
    "currently a student or not."
   ]
  },
  {
   "cell_type": "code",
   "execution_count": 55,
   "id": "67e8f2d1-52fb-4b16-a08a-4a8efda04bf2",
   "metadata": {
    "tags": []
   },
   "outputs": [
    {
     "name": "stdout",
     "output_type": "stream",
     "text": [
      "Are you a Student?: True\n"
     ]
    }
   ],
   "source": [
    "is_student = 'Yes I am  Student'\n",
    "\n",
    "print(\"Are you a Student?:\",bool(is_student))"
   ]
  },
  {
   "cell_type": "code",
   "execution_count": null,
   "id": "9b4f0da8-3202-43c4-9de6-68b72a924730",
   "metadata": {},
   "outputs": [],
   "source": []
  }
 ],
 "metadata": {
  "kernelspec": {
   "display_name": "Python 3 (ipykernel)",
   "language": "python",
   "name": "python3"
  },
  "language_info": {
   "codemirror_mode": {
    "name": "ipython",
    "version": 3
   },
   "file_extension": ".py",
   "mimetype": "text/x-python",
   "name": "python",
   "nbconvert_exporter": "python",
   "pygments_lexer": "ipython3",
   "version": "3.10.11"
  }
 },
 "nbformat": 4,
 "nbformat_minor": 5
}
