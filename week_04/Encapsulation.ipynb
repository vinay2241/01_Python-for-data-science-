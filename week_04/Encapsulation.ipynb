{
 "cells": [
  {
   "cell_type": "code",
   "execution_count": 2,
   "id": "93f22b8f-3c14-4b19-af13-36d382281f9e",
   "metadata": {
    "tags": []
   },
   "outputs": [],
   "source": [
    "class test:\n",
    "    def __init__(self, a,b) :#__init__ :constructor: Its is method to pass the data inside the class \n",
    "        self.a = a\n",
    "        self.b = b"
   ]
  },
  {
   "cell_type": "code",
   "execution_count": 5,
   "id": "5517fff7-221a-43da-b857-8f84875e776b",
   "metadata": {
    "tags": []
   },
   "outputs": [],
   "source": [
    "t = test(11,10)"
   ]
  },
  {
   "cell_type": "code",
   "execution_count": 7,
   "id": "b86a768f-8493-4360-9025-91af70a20b31",
   "metadata": {
    "tags": []
   },
   "outputs": [
    {
     "name": "stdout",
     "output_type": "stream",
     "text": [
      "11\n"
     ]
    }
   ],
   "source": [
    "print(t.a)"
   ]
  },
  {
   "cell_type": "code",
   "execution_count": 8,
   "id": "0fab56ba-4f90-4bcc-8dd4-1fa3e8abda42",
   "metadata": {
    "tags": []
   },
   "outputs": [
    {
     "name": "stdout",
     "output_type": "stream",
     "text": [
      "10\n"
     ]
    }
   ],
   "source": [
    "print(t.b)"
   ]
  },
  {
   "cell_type": "code",
   "execution_count": 9,
   "id": "736baaae-f81c-4783-89f4-cf6edcfc7df0",
   "metadata": {
    "tags": []
   },
   "outputs": [],
   "source": [
    "#Basically Encapsulation is the concept which prevents to direct access of the data/information"
   ]
  },
  {
   "cell_type": "code",
   "execution_count": null,
   "id": "00909137-12eb-4501-8ee4-9066ea75ce0a",
   "metadata": {},
   "outputs": [],
   "source": []
  }
 ],
 "metadata": {
  "kernelspec": {
   "display_name": "Python 3 (ipykernel)",
   "language": "python",
   "name": "python3"
  },
  "language_info": {
   "codemirror_mode": {
    "name": "ipython",
    "version": 3
   },
   "file_extension": ".py",
   "mimetype": "text/x-python",
   "name": "python",
   "nbconvert_exporter": "python",
   "pygments_lexer": "ipython3",
   "version": "3.10.11"
  }
 },
 "nbformat": 4,
 "nbformat_minor": 5
}
