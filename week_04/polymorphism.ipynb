{
 "cells": [
  {
   "cell_type": "code",
   "execution_count": 1,
   "id": "c0866196-0f61-4a24-a8f4-f1f9e87b1276",
   "metadata": {
    "tags": []
   },
   "outputs": [],
   "source": [
    "def add(a,b):\n",
    "    return a+b"
   ]
  },
  {
   "cell_type": "code",
   "execution_count": 2,
   "id": "3efb1a76-b099-4285-9735-081b1b867567",
   "metadata": {
    "tags": []
   },
   "outputs": [
    {
     "data": {
      "text/plain": [
       "5"
      ]
     },
     "execution_count": 2,
     "metadata": {},
     "output_type": "execute_result"
    }
   ],
   "source": [
    "add(2,3)"
   ]
  },
  {
   "cell_type": "code",
   "execution_count": 6,
   "id": "96fb9a6b-c916-4ff7-944a-11345f0537d4",
   "metadata": {
    "tags": []
   },
   "outputs": [
    {
     "data": {
      "text/plain": [
       "'NINGARAJA D B'"
      ]
     },
     "execution_count": 6,
     "metadata": {},
     "output_type": "execute_result"
    }
   ],
   "source": [
    "add(\"NINGARAJA\",\" D B\")"
   ]
  },
  {
   "cell_type": "code",
   "execution_count": 10,
   "id": "1a49a191-6f2f-4555-a0d0-1f8b4ed38751",
   "metadata": {
    "tags": []
   },
   "outputs": [
    {
     "data": {
      "text/plain": [
       "[1, 2, 3, 4, 5, 6, 7, 8, 9, 10, 11, 12]"
      ]
     },
     "execution_count": 10,
     "metadata": {},
     "output_type": "execute_result"
    }
   ],
   "source": [
    "add([1,2,3,4,5,6,7,8,9],[10,11,12]) #List Append or Concatination Operation"
   ]
  },
  {
   "cell_type": "code",
   "execution_count": 28,
   "id": "19378b81-7f79-4169-a78d-bd20448ebbfd",
   "metadata": {
    "tags": []
   },
   "outputs": [],
   "source": [
    "class data_science:\n",
    "    def syllabus(self):\n",
    "        print(\"Data Science is my syllabus\")"
   ]
  },
  {
   "cell_type": "code",
   "execution_count": 47,
   "id": "9d05a45e-b3f5-43d5-93b3-0acf8f5e32ce",
   "metadata": {
    "tags": []
   },
   "outputs": [],
   "source": [
    "class web_dev:\n",
    "    def syllabus(self):\n",
    "        print(\"web_dev is my syllabus\")"
   ]
  },
  {
   "cell_type": "code",
   "execution_count": 48,
   "id": "8eee8cb0-2a3a-4516-8415-0302dec14c97",
   "metadata": {
    "tags": []
   },
   "outputs": [],
   "source": [
    "def class_parcer(class_obj):\n",
    "    for i in class_obj:\n",
    "        i.syllabus()"
   ]
  },
  {
   "cell_type": "code",
   "execution_count": 49,
   "id": "20dfce3e-61ad-4190-b959-7ed3d0036409",
   "metadata": {
    "tags": []
   },
   "outputs": [],
   "source": [
    "obj_data_science = data_science()"
   ]
  },
  {
   "cell_type": "code",
   "execution_count": 50,
   "id": "fe8e5fd1-c78e-4404-9203-9a1052c1ad0a",
   "metadata": {
    "tags": []
   },
   "outputs": [],
   "source": [
    "obj_web_dev = web_dev()"
   ]
  },
  {
   "cell_type": "code",
   "execution_count": 51,
   "id": "50000a31-80ed-4bcf-8b70-b0a7d48656ac",
   "metadata": {
    "tags": []
   },
   "outputs": [],
   "source": [
    "class_object = [obj_data_science,obj_web_dev]"
   ]
  },
  {
   "cell_type": "code",
   "execution_count": 52,
   "id": "75a7cc05-5797-4bca-b99f-9d446113c12c",
   "metadata": {
    "tags": []
   },
   "outputs": [
    {
     "name": "stdout",
     "output_type": "stream",
     "text": [
      "Data Science is my syllabus\n",
      "web_dev is my syllabus\n"
     ]
    }
   ],
   "source": [
    "class_parcer(class_object)"
   ]
  },
  {
   "cell_type": "code",
   "execution_count": null,
   "id": "0ec46899-2c4e-43c4-9dd0-c35e1a0db522",
   "metadata": {},
   "outputs": [],
   "source": []
  }
 ],
 "metadata": {
  "kernelspec": {
   "display_name": "Python 3 (ipykernel)",
   "language": "python",
   "name": "python3"
  },
  "language_info": {
   "codemirror_mode": {
    "name": "ipython",
    "version": 3
   },
   "file_extension": ".py",
   "mimetype": "text/x-python",
   "name": "python",
   "nbconvert_exporter": "python",
   "pygments_lexer": "ipython3",
   "version": "3.10.11"
  }
 },
 "nbformat": 4,
 "nbformat_minor": 5
}
