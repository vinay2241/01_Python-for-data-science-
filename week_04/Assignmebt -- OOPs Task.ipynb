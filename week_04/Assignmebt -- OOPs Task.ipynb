{
 "cells": [
  {
   "cell_type": "markdown",
   "id": "339e9bce-9e15-4513-9ee6-0da9f9551108",
   "metadata": {},
   "source": [
    "Q1. Here's an example of a Vehicle class with an __init__ method and instance variables:"
   ]
  },
  {
   "cell_type": "code",
   "execution_count": 2,
   "id": "cfb1cdca-2b0d-4efc-a5fb-45c638d6d20e",
   "metadata": {
    "tags": []
   },
   "outputs": [],
   "source": [
    "class Vehicle:\n",
    "    def __init__(self, name_of_vehicle, max_speed, average_of_vehicle):\n",
    "        self.name_of_vehicle = name_of_vehicle\n",
    "        self.max_speed = max_speed\n",
    "        self.average_of_vehicle = average_of_vehicle"
   ]
  },
  {
   "cell_type": "markdown",
   "id": "9068f440-0f17-4552-be35-4db629184388",
   "metadata": {},
   "source": [
    "Q2. Here's a Car class that inherits from the Vehicle class and includes a method seating_capacity:"
   ]
  },
  {
   "cell_type": "code",
   "execution_count": 3,
   "id": "4f7d24fb-2607-4f8b-b8f1-533a1dc72ab0",
   "metadata": {
    "tags": []
   },
   "outputs": [],
   "source": [
    "class Car(Vehicle):\n",
    "    def seating_capacity(self, capacity):\n",
    "        return f\"The {self.name_of_vehicle} has a seating capacity of {capacity} people.\"\n"
   ]
  },
  {
   "cell_type": "markdown",
   "id": "b2481d0a-b31e-4b96-bc4d-dfd9acdd4987",
   "metadata": {},
   "source": [
    "Q3. Multiple inheritance is a feature in object-oriented programming where a class can inherit attributes and methods from multiple parent classes. In Python, a class can inherit from multiple classes by listing them in parentheses after the class name. Here's an example code demonstrating multiple inheritance:"
   ]
  },
  {
   "cell_type": "code",
   "execution_count": 5,
   "id": "b792a91d-d392-43eb-a3ad-1ebb311b3bd4",
   "metadata": {
    "tags": []
   },
   "outputs": [
    {
     "name": "stdout",
     "output_type": "stream",
     "text": [
      "Parent 1 method\n",
      "Parent 2 method\n",
      "Child method\n"
     ]
    }
   ],
   "source": [
    "class Parent1:\n",
    "    def method1(self):\n",
    "        print(\"Parent 1 method\")\n",
    "\n",
    "class Parent2:\n",
    "    def method2(self):\n",
    "        print(\"Parent 2 method\")\n",
    "\n",
    "class Child(Parent1, Parent2):\n",
    "    def method3(self):\n",
    "        print(\"Child method\")\n",
    "\n",
    "child = Child()\n",
    "\n",
    "# Accessing methods from both parent classes and the child class\n",
    "child.method1()  \n",
    "child.method2()  \n",
    "child.method3()  \n"
   ]
  },
  {
   "cell_type": "markdown",
   "id": "b9092bbf-768a-4611-9fb2-344ed5a54354",
   "metadata": {},
   "source": [
    "Q4. In Python, getters and setters are methods used to access and modify the values of private instance variables. They provide an interface to control the access to the variables and allow performing additional operations while getting or setting the values. Here's an example class with a getter and a setter method:"
   ]
  },
  {
   "cell_type": "code",
   "execution_count": 6,
   "id": "acfbef24-2225-41fc-a29e-cf80da07f2c0",
   "metadata": {
    "tags": []
   },
   "outputs": [
    {
     "name": "stdout",
     "output_type": "stream",
     "text": [
      "42\n"
     ]
    }
   ],
   "source": [
    "class MyClass:\n",
    "    def __init__(self):\n",
    "        self._my_variable = None\n",
    "\n",
    "    def get_my_variable(self):\n",
    "        return self._my_variable\n",
    "\n",
    "    def set_my_variable(self, value):\n",
    "        self._my_variable = value\n",
    "\n",
    "# Creating an instance of MyClass\n",
    "obj = MyClass()\n",
    "\n",
    "# Using the getter and setter methods\n",
    "obj.set_my_variable(42)\n",
    "print(obj.get_my_variable())  # Output: 42\n"
   ]
  },
  {
   "cell_type": "markdown",
   "id": "09066cca-3b41-4247-a49a-4c64e6744966",
   "metadata": {},
   "source": [
    "Q5. Method overriding in Python occurs when a derived class defines a method with the same name as a method in its base class. The method in the derived class overrides the method in the base class, providing a different implementation. Here's an example code demonstrating method overriding:"
   ]
  },
  {
   "cell_type": "code",
   "execution_count": 7,
   "id": "80b3e05c-3393-41d9-8504-3df3400977e3",
   "metadata": {
    "tags": []
   },
   "outputs": [
    {
     "name": "stdout",
     "output_type": "stream",
     "text": [
      "Derived class method\n"
     ]
    }
   ],
   "source": [
    "class BaseClass:\n",
    "    def method(self):\n",
    "        print(\"Base class method\")\n",
    "\n",
    "class DerivedClass(BaseClass):\n",
    "    def method(self):\n",
    "        print(\"Derived class method\")\n",
    "\n",
    "# Creating an instance of the derived class\n",
    "derived_obj = DerivedClass()\n",
    "\n",
    "# Calling the overridden method\n",
    "derived_obj.method()  # Output: Derived class method\n"
   ]
  },
  {
   "cell_type": "code",
   "execution_count": null,
   "id": "6f16e283-fcb6-4014-af46-75de038ceb9f",
   "metadata": {},
   "outputs": [],
   "source": []
  }
 ],
 "metadata": {
  "kernelspec": {
   "display_name": "Python 3 (ipykernel)",
   "language": "python",
   "name": "python3"
  },
  "language_info": {
   "codemirror_mode": {
    "name": "ipython",
    "version": 3
   },
   "file_extension": ".py",
   "mimetype": "text/x-python",
   "name": "python",
   "nbconvert_exporter": "python",
   "pygments_lexer": "ipython3",
   "version": "3.10.11"
  }
 },
 "nbformat": 4,
 "nbformat_minor": 5
}
