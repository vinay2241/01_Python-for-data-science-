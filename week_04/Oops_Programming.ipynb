{
 "cells": [
  {
   "cell_type": "markdown",
   "id": "194c06b4-e727-4ac6-bb3d-bd1450a4a915",
   "metadata": {},
   "source": [
    "## Oops Stands for the Object oriented Programming Languaage"
   ]
  },
  {
   "cell_type": "code",
   "execution_count": 12,
   "id": "518beb3f-e99a-42a4-87d8-bfb407fed1cc",
   "metadata": {
    "tags": []
   },
   "outputs": [],
   "source": [
    "class test:\n",
    "    pass"
   ]
  },
  {
   "cell_type": "code",
   "execution_count": 16,
   "id": "dafd3043-0791-42dd-9f0d-3a6acf8bf700",
   "metadata": {
    "tags": []
   },
   "outputs": [
    {
     "name": "stdout",
     "output_type": "stream",
     "text": [
      "<class '__main__.test'>\n"
     ]
    }
   ],
   "source": [
    "# In order to ctrate a varible for this Particular Class in the python\n",
    "a = test()\n",
    "print(type(a)) #Here a is called the OBJECT of the class test()"
   ]
  },
  {
   "cell_type": "code",
   "execution_count": 36,
   "id": "7a2e4256-9692-445c-b2be-81583f30679a",
   "metadata": {
    "tags": []
   },
   "outputs": [],
   "source": [
    "class pwskills:\n",
    "    def welcome_msg(self):\n",
    "        print('Welcome to pwskill')"
   ]
  },
  {
   "cell_type": "code",
   "execution_count": 37,
   "id": "d1eedfc3-8cb2-420a-98d2-e308bbe4d0d0",
   "metadata": {
    "tags": []
   },
   "outputs": [],
   "source": [
    "rohan = pwskills()"
   ]
  },
  {
   "cell_type": "code",
   "execution_count": 38,
   "id": "193fe2ec-1472-4fe8-a898-f098b1bbd945",
   "metadata": {
    "tags": []
   },
   "outputs": [
    {
     "name": "stdout",
     "output_type": "stream",
     "text": [
      "Welcome to pwskill\n"
     ]
    }
   ],
   "source": [
    "rohan.welcome_msg()"
   ]
  },
  {
   "cell_type": "code",
   "execution_count": 39,
   "id": "731ec0ef-112d-4ed3-bce6-69d70b1157ae",
   "metadata": {
    "tags": []
   },
   "outputs": [
    {
     "name": "stdout",
     "output_type": "stream",
     "text": [
      "Welcome to pwskill\n"
     ]
    }
   ],
   "source": [
    "sohan = pwskills()\n",
    "sohan.welcome_msg()"
   ]
  },
  {
   "cell_type": "code",
   "execution_count": 41,
   "id": "bd0ff894-59b9-4e08-a96c-74e9106fc1ea",
   "metadata": {
    "tags": []
   },
   "outputs": [],
   "source": [
    "class pwskill1:\n",
    "    def __init__(self, phone_number, email_id, student_id):\n",
    "        \n",
    "        self.phone_number = phone_number\n",
    "        self.email_id = email_id\n",
    "        self.student_id = student_id\n",
    "    \n",
    "    def return_student_details(self):\n",
    "        return self.phone_number, self.email_id, self.student_id"
   ]
  },
  {
   "cell_type": "code",
   "execution_count": 45,
   "id": "0e98fc46-5e71-44c7-8689-b0057d42c7b3",
   "metadata": {
    "tags": []
   },
   "outputs": [],
   "source": [
    "rohan = pwskill1(8197874440, 'dbn2241@gmail.com', '4UB20EC038' )"
   ]
  },
  {
   "cell_type": "code",
   "execution_count": 52,
   "id": "fe290279-a343-4cf6-b923-e93dfe8dc7e9",
   "metadata": {
    "tags": []
   },
   "outputs": [
    {
     "data": {
      "text/plain": [
       "8197874440"
      ]
     },
     "execution_count": 52,
     "metadata": {},
     "output_type": "execute_result"
    }
   ],
   "source": [
    "rohan.phone_number"
   ]
  },
  {
   "cell_type": "code",
   "execution_count": 53,
   "id": "23c1df9c-327a-4c12-b0e0-0e559f180fc2",
   "metadata": {
    "tags": []
   },
   "outputs": [
    {
     "data": {
      "text/plain": [
       "'4UB20EC038'"
      ]
     },
     "execution_count": 53,
     "metadata": {},
     "output_type": "execute_result"
    }
   ],
   "source": [
    "rohan.student_id"
   ]
  },
  {
   "cell_type": "code",
   "execution_count": 55,
   "id": "6156101a-bfed-4b62-93d3-1d602530936e",
   "metadata": {
    "tags": []
   },
   "outputs": [
    {
     "data": {
      "text/plain": [
       "'dbn2241@gmail.com'"
      ]
     },
     "execution_count": 55,
     "metadata": {},
     "output_type": "execute_result"
    }
   ],
   "source": [
    "rohan.email_id"
   ]
  },
  {
   "cell_type": "code",
   "execution_count": 60,
   "id": "e6db53c9-4252-4cda-ab54-62b44f842163",
   "metadata": {
    "tags": []
   },
   "outputs": [
    {
     "name": "stdout",
     "output_type": "stream",
     "text": [
      "(8197874440, 'dbn2241@gmail.com', '4UB20EC038')\n"
     ]
    }
   ],
   "source": [
    "print(rohan.return_student_details())"
   ]
  },
  {
   "cell_type": "code",
   "execution_count": 63,
   "id": "97827bf9-1670-48df-bdae-1a31b236de70",
   "metadata": {
    "tags": []
   },
   "outputs": [],
   "source": [
    "mohan = pwskill1(8431906452, 'sohanasdf@gmail.com', '4UB20EC039')"
   ]
  },
  {
   "cell_type": "code",
   "execution_count": 64,
   "id": "ff9502cb-9246-4a4f-83d0-7e95e24c810e",
   "metadata": {
    "tags": []
   },
   "outputs": [
    {
     "name": "stdout",
     "output_type": "stream",
     "text": [
      "(8431906452, 'sohanasdf@gmail.com', '4UB20EC039')\n"
     ]
    }
   ],
   "source": [
    "print(mohan.return_student_details())"
   ]
  },
  {
   "cell_type": "code",
   "execution_count": null,
   "id": "fbc02f67-87ae-4698-ae15-1519cc501ec6",
   "metadata": {
    "tags": []
   },
   "outputs": [],
   "source": [
    "ningappa = pwskill1(9959021921, 'kishorjhade@gmail.com','9956FDUDU') \n"
   ]
  },
  {
   "cell_type": "code",
   "execution_count": 70,
   "id": "031159a1-bd04-482e-b052-10da03626139",
   "metadata": {
    "tags": []
   },
   "outputs": [
    {
     "ename": "SyntaxError",
     "evalue": "incomplete input (1605510039.py, line 1)",
     "output_type": "error",
     "traceback": [
      "\u001b[1;36m  Cell \u001b[1;32mIn[70], line 1\u001b[1;36m\u001b[0m\n\u001b[1;33m    print(ningappa.retuern\u001b[0m\n\u001b[1;37m                          ^\u001b[0m\n\u001b[1;31mSyntaxError\u001b[0m\u001b[1;31m:\u001b[0m incomplete input\n"
     ]
    }
   ],
   "source": [
    "print(ningappa.return_student_details()) "
   ]
  },
  {
   "cell_type": "code",
   "execution_count": null,
   "id": "81fd3096-3bba-455d-b71b-c5b4d860d8b9",
   "metadata": {
    "tags": []
   },
   "outputs": [],
   "source": []
  },
  {
   "cell_type": "code",
   "execution_count": null,
   "id": "3f358dd6-c4af-4943-896e-4dfa55c81b73",
   "metadata": {},
   "outputs": [],
   "source": []
  },
  {
   "cell_type": "code",
   "execution_count": null,
   "id": "a6421849-d93e-4774-b50b-63668989672f",
   "metadata": {},
   "outputs": [],
   "source": []
  }
 ],
 "metadata": {
  "kernelspec": {
   "display_name": "Python 3 (ipykernel)",
   "language": "python",
   "name": "python3"
  },
  "language_info": {
   "codemirror_mode": {
    "name": "ipython",
    "version": 3
   },
   "file_extension": ".py",
   "mimetype": "text/x-python",
   "name": "python",
   "nbconvert_exporter": "python",
   "pygments_lexer": "ipython3",
   "version": "3.10.11"
  }
 },
 "nbformat": 4,
 "nbformat_minor": 5
}
