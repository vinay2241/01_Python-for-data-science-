{
 "cells": [
  {
   "cell_type": "markdown",
   "id": "5092bd3e-9bd1-42bd-ae60-f606ce2237c4",
   "metadata": {},
   "source": [
    "Q1. In object-oriented programming (OOP), a class is a blueprint or template for creating objects. It defines the attributes (data) and behaviors (methods) that objects of that class will possess. An object, on the other hand, is an instance of a class. It is a concrete entity that can store data and perform actions based on the class's definition.\n",
    "\n",
    "Example:\n",
    "Let's consider a class called Car that represents a car blueprint. It may have attributes like brand, model, and color, and behaviors (methods) like start_engine() and drive(). An object of the Car class could be created with specific values for the attributes, such as a red Toyota Camry. The object will have its own set of attribute values and can perform actions defined in the class, like starting the engine and driving."
   ]
  },
  {
   "cell_type": "markdown",
   "id": "c42ce47f-bccc-485b-836c-7419a55189a3",
   "metadata": {},
   "source": [
    "Q2. The four pillars of object-oriented programming (OOP) are:\n",
    "\n",
    "Encapsulation: Encapsulation is the practice of bundling data (attributes) and methods (behaviors) that operate on that data within a class. It hides the internal details of an object and provides a clean interface for interacting with it.\n",
    "\n",
    "Inheritance: Inheritance allows a class to inherit the attributes and methods from another class. It promotes code reusability and supports the creation of hierarchical relationships between classes.\n",
    "\n",
    "Polymorphism: Polymorphism allows objects of different classes to be treated as objects of a common superclass. It enables the use of a single interface to represent multiple types and facilitates code flexibility and extensibility.\n",
    "\n",
    "Abstraction: Abstraction involves representing essential features of an object while hiding unnecessary details. It focuses on creating simplified models of real-world objects by defining interfaces and abstract classes."
   ]
  },
  {
   "cell_type": "markdown",
   "id": "4b16aa1c-712c-41e2-879b-01a21ff6f84b",
   "metadata": {},
   "source": [
    "Q3. Explain why the __init__() function is used. Give a suitable example."
   ]
  },
  {
   "cell_type": "code",
   "execution_count": 4,
   "id": "a6acccd9-f8c7-4474-ac6b-9f59ca2ff15b",
   "metadata": {
    "tags": []
   },
   "outputs": [
    {
     "name": "stdout",
     "output_type": "stream",
     "text": [
      "John\n",
      "30\n"
     ]
    }
   ],
   "source": [
    "class Person:\n",
    "    def __init__(self, name, age):\n",
    "        self.name = name\n",
    "        self.age = age\n",
    "\n",
    "# Creating an instance of the Person class\n",
    "person = Person(\"John\", 30)\n",
    "print(person.name)  # Output: John\n",
    "print(person.age)   # Output: 30\n"
   ]
  },
  {
   "cell_type": "markdown",
   "id": "2cc427f7-ec6f-48ee-9a58-41859e161a86",
   "metadata": {
    "tags": []
   },
   "source": [
    "Q4. Why self is used in OOPs?"
   ]
  },
  {
   "cell_type": "markdown",
   "id": "10f2ffd8-d8a4-4dc5-9c25-1d18e7666b99",
   "metadata": {},
   "source": [
    " In object-oriented programming, self is a reference to the instance of a class. It is a conventional name and must be the first parameter of any method defined within a class. When a method is called on an object, the object itself is automatically passed as the first argument (self) to the method.\n",
    "\n",
    "Using self, we can access the attributes and methods of the object within the class. It allows different objects of the same class to have their own unique state and behavior.\n",
    "\n"
   ]
  },
  {
   "cell_type": "markdown",
   "id": "1d758030-6faa-48a1-b521-a1de3bebcdbc",
   "metadata": {},
   "source": [
    "Q5. Inheritance is a fundamental concept in object-oriented programming that allows one class to inherit the attributes and methods of another class. It promotes code reuse and establishes hierarchical relationships between classes."
   ]
  },
  {
   "cell_type": "code",
   "execution_count": null,
   "id": "ab7eef1d-e5d3-4bbd-b34f-c83fb16ea44a",
   "metadata": {},
   "outputs": [],
   "source": [
    "class Animal:\n",
    "    def breathe(self):\n",
    "        print(\"Breathing...\")\n",
    "\n",
    "class Dog(Animal):\n",
    "    def bark(self):"
   ]
  }
 ],
 "metadata": {
  "kernelspec": {
   "display_name": "Python 3 (ipykernel)",
   "language": "python",
   "name": "python3"
  },
  "language_info": {
   "codemirror_mode": {
    "name": "ipython",
    "version": 3
   },
   "file_extension": ".py",
   "mimetype": "text/x-python",
   "name": "python",
   "nbconvert_exporter": "python",
   "pygments_lexer": "ipython3",
   "version": "3.10.11"
  }
 },
 "nbformat": 4,
 "nbformat_minor": 5
}
