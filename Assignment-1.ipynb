{
 "cells": [
  {
   "cell_type": "markdown",
   "id": "58830239-71c1-4cd4-b361-2a722762fe73",
   "metadata": {},
   "source": [
    "Q1. Create one variable containing following type of data: \n",
    "(i) string \n",
    "(ii) list \n",
    "(iii) float \n",
    "(iv) tuple"
   ]
  },
  {
   "cell_type": "code",
   "execution_count": 17,
   "id": "fe685f52-9e8b-4af2-97b7-427ffb3fc5b3",
   "metadata": {
    "tags": []
   },
   "outputs": [
    {
     "data": {
      "text/plain": [
       "str"
      ]
     },
     "execution_count": 17,
     "metadata": {},
     "output_type": "execute_result"
    }
   ],
   "source": [
    "# String\n",
    "A = \"Ningaraj D B\"\n",
    "type(A)"
   ]
  },
  {
   "cell_type": "code",
   "execution_count": 15,
   "id": "3d660905-3de6-42fa-8d03-9e8fbce7df0a",
   "metadata": {
    "tags": []
   },
   "outputs": [
    {
     "data": {
      "text/plain": [
       "list"
      ]
     },
     "execution_count": 15,
     "metadata": {},
     "output_type": "execute_result"
    }
   ],
   "source": [
    "# List\n",
    "B = [\"PW Skill\", \"iNeuron\", \"Data Science 2.0\"]\n",
    "type(B)"
   ]
  },
  {
   "cell_type": "code",
   "execution_count": 14,
   "id": "648e59bc-5fa0-41ba-b2dd-6f23515a2799",
   "metadata": {
    "tags": []
   },
   "outputs": [
    {
     "data": {
      "text/plain": [
       "float"
      ]
     },
     "execution_count": 14,
     "metadata": {},
     "output_type": "execute_result"
    }
   ],
   "source": [
    "# Float\n",
    "C = 11.052023\n",
    "type(C)"
   ]
  },
  {
   "cell_type": "code",
   "execution_count": 19,
   "id": "bc639984-eca9-47bc-9fda-6fc548799e74",
   "metadata": {
    "tags": []
   },
   "outputs": [
    {
     "data": {
      "text/plain": [
       "tuple"
      ]
     },
     "execution_count": 19,
     "metadata": {},
     "output_type": "execute_result"
    }
   ],
   "source": [
    "# Tuple\n",
    "D = (\"Sudanshu Sir\", \"Krishn Naik Sir\", \"Python\", \"Masters\")\n",
    "type(D)"
   ]
  },
  {
   "cell_type": "markdown",
   "id": "4951522e-1a9f-4524-939f-5ef7100c58e7",
   "metadata": {},
   "source": [
    "Q2. Given are some following variables containing data: \n",
    "(i) var1 = ‘ ‘ \n",
    "(ii) var2 = ‘[ DS , ML , Python]’ \n",
    "(iii) var3 = [ ‘DS’ , ’ML’ , ‘Python’ ] \n",
    "(iv) var4 = 1. \n",
    "What will be the data type of the above given variable. "
   ]
  },
  {
   "cell_type": "code",
   "execution_count": 21,
   "id": "5dbe8208-6890-480f-8002-68f9d6654fc6",
   "metadata": {
    "tags": []
   },
   "outputs": [
    {
     "data": {
      "text/plain": [
       "str"
      ]
     },
     "execution_count": 21,
     "metadata": {},
     "output_type": "execute_result"
    }
   ],
   "source": [
    "var1 = '' \n",
    "type(var1)"
   ]
  },
  {
   "cell_type": "code",
   "execution_count": 24,
   "id": "e0728e02-8694-4503-96e9-f3d32f295c02",
   "metadata": {
    "tags": []
   },
   "outputs": [
    {
     "data": {
      "text/plain": [
       "str"
      ]
     },
     "execution_count": 24,
     "metadata": {},
     "output_type": "execute_result"
    }
   ],
   "source": [
    "var2 = '[ DS , ML , Python]'\n",
    "type(var2)"
   ]
  },
  {
   "cell_type": "code",
   "execution_count": 27,
   "id": "e9bef70c-b745-4eaf-a428-3ba4c2838457",
   "metadata": {
    "tags": []
   },
   "outputs": [
    {
     "data": {
      "text/plain": [
       "list"
      ]
     },
     "execution_count": 27,
     "metadata": {},
     "output_type": "execute_result"
    }
   ],
   "source": [
    "var3 = [ 'DS' , 'ML' , 'Python' ] \n",
    "type(var3)"
   ]
  },
  {
   "cell_type": "code",
   "execution_count": 28,
   "id": "7bfb45ec-f6ba-4bb9-a709-4ddf5343ddf1",
   "metadata": {
    "tags": []
   },
   "outputs": [
    {
     "data": {
      "text/plain": [
       "int"
      ]
     },
     "execution_count": 28,
     "metadata": {},
     "output_type": "execute_result"
    }
   ],
   "source": [
    "var4 = 1\n",
    "type(var4)"
   ]
  },
  {
   "cell_type": "markdown",
   "id": "1e92c5a1-7414-4419-a1b7-fc6381e44548",
   "metadata": {
    "tags": []
   },
   "source": [
    "Q3. Explain the use of the following operators using an example: \n",
    "(i) / \n",
    "(ii) %  \n",
    "(iii) // \n",
    "(iv) **"
   ]
  },
  {
   "cell_type": "code",
   "execution_count": 33,
   "id": "e2f108b9-7f5b-49ed-ad09-c5462f2b891c",
   "metadata": {
    "tags": []
   },
   "outputs": [],
   "source": [
    "a=10\n",
    "b=5"
   ]
  },
  {
   "cell_type": "code",
   "execution_count": 34,
   "id": "25c8143d-da46-43d9-a4c9-1f34978741ab",
   "metadata": {
    "tags": []
   },
   "outputs": [
    {
     "name": "stdout",
     "output_type": "stream",
     "text": [
      "2.0\n"
     ]
    }
   ],
   "source": [
    "print(a/b)"
   ]
  },
  {
   "cell_type": "code",
   "execution_count": 35,
   "id": "d01e2b3f-b0e5-4b97-90c4-4ffd303c1e5d",
   "metadata": {
    "tags": []
   },
   "outputs": [
    {
     "name": "stdout",
     "output_type": "stream",
     "text": [
      "0\n"
     ]
    }
   ],
   "source": [
    "print(a%b)"
   ]
  },
  {
   "cell_type": "code",
   "execution_count": 36,
   "id": "9478def2-8c84-4f2d-b4e1-4d890001c9f6",
   "metadata": {
    "tags": []
   },
   "outputs": [
    {
     "name": "stdout",
     "output_type": "stream",
     "text": [
      "2\n"
     ]
    }
   ],
   "source": [
    "print(a//b)"
   ]
  },
  {
   "cell_type": "code",
   "execution_count": 37,
   "id": "db570196-be2b-447d-b62c-795b06ebdb40",
   "metadata": {
    "tags": []
   },
   "outputs": [
    {
     "name": "stdout",
     "output_type": "stream",
     "text": [
      "100000\n"
     ]
    }
   ],
   "source": [
    "print(a**b)"
   ]
  },
  {
   "cell_type": "markdown",
   "id": "fa6fbdc3-4dd7-4250-ad52-1e3cde42329a",
   "metadata": {},
   "source": [
    "Q4. Create a list of length 10 of your choice containing multiple types of data. Using for loop print the  element and its data type. "
   ]
  },
  {
   "cell_type": "code",
   "execution_count": 79,
   "id": "a80f6317-8838-4fb9-9a80-12beb32e77dc",
   "metadata": {
    "tags": []
   },
   "outputs": [
    {
     "name": "stdout",
     "output_type": "stream",
     "text": [
      "<class 'str'>\n",
      "<class 'str'>\n",
      "<class 'float'>\n",
      "<class 'int'>\n",
      "<class 'dict'>\n",
      "<class 'tuple'>\n",
      "<class 'list'>\n",
      "<class 'str'>\n"
     ]
    }
   ],
   "source": [
    "my_list = [\"List\", \"Dictionary\", 2.0, 10, {\"Name\":\"Ningaraja DB\", \"Age\":15}, (10,9,8,7,6,5,4,3,2,1), [1,2,3,4,5,6,7,8,9], \"print\"]\n",
    "for i in my_list:\n",
    "    a = type(i)\n",
    "    print(a)"
   ]
  },
  {
   "cell_type": "markdown",
   "id": "c37eb328-dd4e-43af-a822-e696cd971eab",
   "metadata": {},
   "source": [
    "Q5. Using a while loop, verify if the number A is purely divisible by number B and if so then how many  times it can be divisible."
   ]
  },
  {
   "cell_type": "code",
   "execution_count": 2,
   "id": "64a8d38e-7b93-4563-bf7f-e069fe5b4909",
   "metadata": {
    "tags": []
   },
   "outputs": [
    {
     "name": "stdout",
     "output_type": "stream",
     "text": [
      "Enter A: 8\n",
      "Enter B: 2\n",
      "1.0 is divisible by 2,3 times.\n"
     ]
    }
   ],
   "source": [
    "A = int(input(\"Enter A: \"))\n",
    "B = int(input(\"Enter B: \"))\n",
    "count = 0\n",
    "\n",
    "while A % B == 0:\n",
    "    count += 1\n",
    "    A /= B\n",
    "\n",
    "if count > 0:\n",
    "    print(f\"{A} is divisible by {B},{count} times.\")\n",
    "else:\n",
    "    print(f\"{A} is not divisible by {B}.\")\n"
   ]
  },
  {
   "cell_type": "markdown",
   "id": "1a34d37c-d932-4119-aa98-0e5c5a5b5e46",
   "metadata": {},
   "source": [
    "Q6. Create a list containing 25 int type data. Using for loop and if-else condition print if the element is\n",
    "divisible by 3 or not."
   ]
  },
  {
   "cell_type": "code",
   "execution_count": 4,
   "id": "792a393f-f612-482f-b6b3-131a687061c2",
   "metadata": {
    "tags": []
   },
   "outputs": [
    {
     "name": "stdout",
     "output_type": "stream",
     "text": [
      "3 Is Divisible by 3\n",
      "2 Is Not Divisible by 3\n",
      "6 Is Divisible by 3\n",
      "4 Is Not Divisible by 3\n",
      "9 Is Divisible by 3\n",
      "8 Is Not Divisible by 3\n",
      "12 Is Divisible by 3\n",
      "10 Is Not Divisible by 3\n",
      "15 Is Divisible by 3\n",
      "12 Is Divisible by 3\n",
      "18 Is Divisible by 3\n",
      "14 Is Not Divisible by 3\n",
      "21 Is Divisible by 3\n",
      "17 Is Not Divisible by 3\n",
      "24 Is Divisible by 3\n",
      "20 Is Not Divisible by 3\n",
      "17 Is Not Divisible by 3\n",
      "23 Is Not Divisible by 3\n",
      "22 Is Not Divisible by 3\n",
      "30 Is Divisible by 3\n",
      "33 Is Divisible by 3\n"
     ]
    }
   ],
   "source": [
    "my_list1 = [3,2,6,4,9,8,12,10,15,12,18,14,21,17,24,20,17,23,22,30,33]\n",
    "for i in my_list1:\n",
    "#     print(i)\n",
    "    if i % 3 == 0:\n",
    "        print(i, \"Is Divisible by 3\")\n",
    "    else:\n",
    "        print(i, \"Is Not Divisible by 3\")\n",
    "        \n",
    "        "
   ]
  },
  {
   "cell_type": "markdown",
   "id": "b48a2e37-19e4-40a3-91ed-3bb7d64873c7",
   "metadata": {},
   "source": [
    "Q7. What do you understand about mutable and immutable data types? Give examples for both showing  this property. "
   ]
  },
  {
   "cell_type": "code",
   "execution_count": 114,
   "id": "21176737-8ca8-462c-ac31-16bd5037c07f",
   "metadata": {
    "tags": []
   },
   "outputs": [
    {
     "data": {
      "text/plain": [
       "[1, 2, 3, 4, 5, 6]"
      ]
     },
     "execution_count": 114,
     "metadata": {},
     "output_type": "execute_result"
    }
   ],
   "source": [
    "# Mutable Means we can change and modify the values of the data type\n",
    "# Example: List \n",
    "q = [1,2,3,4,5]\n",
    "#I can append the New value to the list elements\n",
    "q.append(6)\n",
    "q"
   ]
  },
  {
   "cell_type": "code",
   "execution_count": 116,
   "id": "c04587b5-f32d-46d7-a47b-345a5d8a7b5a",
   "metadata": {
    "tags": []
   },
   "outputs": [
    {
     "ename": "AttributeError",
     "evalue": "'tuple' object has no attribute 'append'",
     "output_type": "error",
     "traceback": [
      "\u001b[1;31m---------------------------------------------------------------------------\u001b[0m",
      "\u001b[1;31mAttributeError\u001b[0m                            Traceback (most recent call last)",
      "Cell \u001b[1;32mIn[116], line 4\u001b[0m\n\u001b[0;32m      1\u001b[0m \u001b[38;5;66;03m# Immutable means we cannot change and modify the elements of the data types \u001b[39;00m\n\u001b[0;32m      2\u001b[0m \u001b[38;5;66;03m# Example : tuple \u001b[39;00m\n\u001b[0;32m      3\u001b[0m tup \u001b[38;5;241m=\u001b[39m (\u001b[38;5;241m8\u001b[39m,\u001b[38;5;241m1\u001b[39m,\u001b[38;5;241m4\u001b[39m,\u001b[38;5;241m5\u001b[39m,\u001b[38;5;241m6\u001b[39m,\u001b[38;5;241m7\u001b[39m,\u001b[38;5;241m8\u001b[39m,\u001b[38;5;241m9\u001b[39m)\n\u001b[1;32m----> 4\u001b[0m \u001b[43mtup\u001b[49m\u001b[38;5;241;43m.\u001b[39;49m\u001b[43mappend\u001b[49m(\u001b[38;5;241m10\u001b[39m)\n",
      "\u001b[1;31mAttributeError\u001b[0m: 'tuple' object has no attribute 'append'"
     ]
    }
   ],
   "source": [
    "# Immutable means we cannot change and modify the elements of the data types \n",
    "# Example : tuple \n",
    "tup = (8,1,4,5,6,7,8,9)\n",
    "# Except an Error like Below \n",
    "tup.append(10)"
   ]
  },
  {
   "cell_type": "code",
   "execution_count": 117,
   "id": "bbdb3ce0-b176-43e6-b0f9-c7abbcd20b08",
   "metadata": {
    "tags": []
   },
   "outputs": [
    {
     "ename": "AttributeError",
     "evalue": "'tuple' object has no attribute 'pop'",
     "output_type": "error",
     "traceback": [
      "\u001b[1;31m---------------------------------------------------------------------------\u001b[0m",
      "\u001b[1;31mAttributeError\u001b[0m                            Traceback (most recent call last)",
      "Cell \u001b[1;32mIn[117], line 1\u001b[0m\n\u001b[1;32m----> 1\u001b[0m \u001b[43mtup\u001b[49m\u001b[38;5;241;43m.\u001b[39;49m\u001b[43mpop\u001b[49m()\n",
      "\u001b[1;31mAttributeError\u001b[0m: 'tuple' object has no attribute 'pop'"
     ]
    }
   ],
   "source": [
    "# We cannot po\n",
    "tup.pop()"
   ]
  },
  {
   "cell_type": "code",
   "execution_count": null,
   "id": "c87bd44f-05c0-408b-9221-ec9d0c394986",
   "metadata": {},
   "outputs": [],
   "source": []
  }
 ],
 "metadata": {
  "kernelspec": {
   "display_name": "Python 3 (ipykernel)",
   "language": "python",
   "name": "python3"
  },
  "language_info": {
   "codemirror_mode": {
    "name": "ipython",
    "version": 3
   },
   "file_extension": ".py",
   "mimetype": "text/x-python",
   "name": "python",
   "nbconvert_exporter": "python",
   "pygments_lexer": "ipython3",
   "version": "3.10.11"
  }
 },
 "nbformat": 4,
 "nbformat_minor": 5
}
