{
 "cells": [
  {
   "cell_type": "markdown",
   "id": "6f54f762-edfd-45e4-904b-ac7256f8ddd6",
   "metadata": {},
   "source": [
    "Q1. Create a python program to sort the given list of tuples based on integer value using a\n",
    "lambda function."
   ]
  },
  {
   "cell_type": "code",
   "execution_count": 2,
   "id": "c9a92ed0-e2c3-4ee3-8b06-8e81004a7318",
   "metadata": {
    "tags": []
   },
   "outputs": [
    {
     "name": "stdout",
     "output_type": "stream",
     "text": [
      "('Jack Kallis', 25534)\n",
      "('Ricky Ponting', 27483)\n",
      "('Sachin Tendulkar', 34357)\n",
      "('Virat Kohli', 24936)\n"
     ]
    }
   ],
   "source": [
    "# List of tuples\n",
    "data = [('Sachin Tendulkar', 34357), ('Ricky Ponting', 27483), ('Jack Kallis', 25534), ('Virat Kohli', 24936)]\n",
    "\n",
    "# Sorting the list based on the integer value using a lambda function\n",
    "sorted_data = sorted(data, key=lambda x: x[0])\n",
    "\n",
    "# Printing the sorted list\n",
    "for item in sorted_data:\n",
    "    print(item)\n"
   ]
  },
  {
   "cell_type": "markdown",
   "id": "fc8c30a9-53fa-418c-a64e-1b8fce7f2baf",
   "metadata": {},
   "source": [
    "Q2. Write a Python Program to find the squares of all the numbers in the given list of integers using\n",
    "lambda and map functions.\n",
    "[1, 2, 3, 4, 5, 6, 7, 8, 9, 10]"
   ]
  },
  {
   "cell_type": "code",
   "execution_count": 3,
   "id": "fbb8b9f8-7a32-4811-b540-0967ba46695a",
   "metadata": {
    "tags": []
   },
   "outputs": [
    {
     "name": "stdout",
     "output_type": "stream",
     "text": [
      "[1, 4, 9, 16, 25, 36, 49, 64, 81, 100]\n"
     ]
    }
   ],
   "source": [
    "# Given list of integers\n",
    "numbers = [1, 2, 3, 4, 5, 6, 7, 8, 9, 10]\n",
    "\n",
    "# Using lambda and map functions to find the squares\n",
    "squared_numbers = list(map(lambda x: x**2, numbers))\n",
    "\n",
    "# Printing the squared numbers\n",
    "print(squared_numbers)\n"
   ]
  },
  {
   "cell_type": "markdown",
   "id": "cf2d43f3-3ffb-4a0f-96be-08ec9df5e1bd",
   "metadata": {},
   "source": [
    "Q3. Write a python program to convert the given list of integers into a tuple of strings. Use map and\n",
    "lambda functions\n",
    "Given String: [1, 2, 3, 4, 5, 6, 7, 8, 9, 10]\n",
    "Expected output: ('1', '2', '3', '4', '5', '6', '7', '8', '9', '10')"
   ]
  },
  {
   "cell_type": "code",
   "execution_count": 4,
   "id": "c47a07f2-2698-42a1-8a20-0680a067bfd0",
   "metadata": {
    "tags": []
   },
   "outputs": [
    {
     "name": "stdout",
     "output_type": "stream",
     "text": [
      "('1', '2', '3', '4', '5', '6', '7', '8', '9', '10')\n"
     ]
    }
   ],
   "source": [
    "# Given list of integers\n",
    "numbers = [1, 2, 3, 4, 5, 6, 7, 8, 9, 10]\n",
    "\n",
    "# Using lambda and map functions to convert the list of integers into a tuple of strings\n",
    "converted_tuple = tuple(map(lambda x: str(x), numbers))\n",
    "\n",
    "# Printing the converted tuple\n",
    "print(converted_tuple)"
   ]
  },
  {
   "cell_type": "markdown",
   "id": "b2ecd1d4-c327-47a9-9042-bb7055f2781a",
   "metadata": {},
   "source": [
    "Q4. Write a python program using reduce function to compute the product of a list containing numbers\n",
    "from 1 to 25."
   ]
  },
  {
   "cell_type": "code",
   "execution_count": 6,
   "id": "8870f767-8f63-4df9-9fec-69627dba1ce5",
   "metadata": {
    "tags": []
   },
   "outputs": [
    {
     "name": "stdout",
     "output_type": "stream",
     "text": [
      "15511210043330985984000000 "
     ]
    }
   ],
   "source": [
    "from functools import reduce\n",
    "\n",
    "# List containing numbers from 1 to 25\n",
    "numbers = list(range(1, 26))\n",
    "\n",
    "# Computing the product using reduce function\n",
    "product = reduce(lambda x, y: x * y, numbers)\n",
    "\n",
    "# Printing the product\n",
    "print(product, end = ' ')\n"
   ]
  },
  {
   "cell_type": "markdown",
   "id": "45e07df6-a1e6-403b-9488-6de3a731bf05",
   "metadata": {},
   "source": [
    "Q5. Write a python program to filter the numbers in a given list that are divisible by 2 and 3 using the\n",
    "filter function.\n",
    "[2, 3, 6, 9, 27, 60, 90, 120, 55, 46]"
   ]
  },
  {
   "cell_type": "code",
   "execution_count": 7,
   "id": "ea72a232-3e26-4e12-a267-38116a8766a5",
   "metadata": {
    "tags": []
   },
   "outputs": [
    {
     "name": "stdout",
     "output_type": "stream",
     "text": [
      "[6, 60, 90, 120]\n"
     ]
    }
   ],
   "source": [
    "# Given list of numbers\n",
    "numbers = [2, 3, 6, 9, 27, 60, 90, 120, 55, 46]\n",
    "\n",
    "# Filtering numbers divisible by 2 and 3 using filter function\n",
    "filtered_numbers = list(filter(lambda x: x % 2 == 0 and x % 3 == 0, numbers))\n",
    "\n",
    "# Printing the filtered numbers\n",
    "print(filtered_numbers)\n"
   ]
  },
  {
   "cell_type": "code",
   "execution_count": null,
   "id": "8f8a1c1c-c19d-4f35-a51a-a111bb48a99a",
   "metadata": {},
   "outputs": [],
   "source": [
    "Q6. Write a python program to find palindromes in the given list of strings using lambda and filter\n",
    "function.\n",
    "['python', 'php', 'aba', 'radar', 'level']"
   ]
  }
 ],
 "metadata": {
  "kernelspec": {
   "display_name": "Python 3 (ipykernel)",
   "language": "python",
   "name": "python3"
  },
  "language_info": {
   "codemirror_mode": {
    "name": "ipython",
    "version": 3
   },
   "file_extension": ".py",
   "mimetype": "text/x-python",
   "name": "python",
   "nbconvert_exporter": "python",
   "pygments_lexer": "ipython3",
   "version": "3.10.11"
  }
 },
 "nbformat": 4,
 "nbformat_minor": 5
}
