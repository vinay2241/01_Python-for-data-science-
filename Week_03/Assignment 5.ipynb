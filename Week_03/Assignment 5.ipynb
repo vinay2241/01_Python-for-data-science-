{
 "cells": [
  {
   "cell_type": "markdown",
   "id": "8c832447-560e-4a9b-b210-2201b404cb7e",
   "metadata": {},
   "source": [
    "Q1.Which keyword is used to create a function? Create a function to return a list of odd numbers in the\n",
    "range of 1 to 25."
   ]
  },
  {
   "cell_type": "code",
   "execution_count": 25,
   "id": "58a15f97-ecb8-4950-8402-b25b5d2b6070",
   "metadata": {
    "tags": []
   },
   "outputs": [],
   "source": [
    "# def keyword is used to create a function\n",
    "def odd_num(a,b):\n",
    "    for i in range(a,b):   \n",
    "        if i%2!=0:\n",
    "            print(i,end =' ')"
   ]
  },
  {
   "cell_type": "code",
   "execution_count": 27,
   "id": "fd6e2244-3a43-4f8a-808f-b0c38c51a98b",
   "metadata": {
    "tags": []
   },
   "outputs": [
    {
     "name": "stdout",
     "output_type": "stream",
     "text": [
      "1 3 5 7 9 11 13 15 17 19 21 23 25 "
     ]
    }
   ],
   "source": [
    "odd_num(1,26) #it will print the odd elements between the given range:"
   ]
  },
  {
   "cell_type": "markdown",
   "id": "441fe099-eab6-4f3a-ad9f-fe6c4a71127d",
   "metadata": {},
   "source": [
    "Q2. Why *args and **kwargs is used in some functions? Create a function each for *args and **kwargs to\n",
    "demonstrate their use."
   ]
  },
  {
   "cell_type": "markdown",
   "id": "016b7fff-a2d8-40c6-9dba-e78652703e73",
   "metadata": {},
   "source": [
    "In Python, *args and **kwargs are used in function definitions to allow a variable number of arguments to be passed to the function. They provide a flexible way to handle different argument scenarios.\n",
    "\n",
    "The *args syntax allows a function to accept any number of positional arguments. When *args is used in the function definition, it collects all the positional arguments passed to the function into a tuple. Inside the function, you can then iterate over the args tuple or access individual elements by index."
   ]
  },
  {
   "cell_type": "code",
   "execution_count": 32,
   "id": "485b98de-3fb1-4541-9146-e2ccefdd8b1f",
   "metadata": {
    "tags": []
   },
   "outputs": [
    {
     "name": "stdout",
     "output_type": "stream",
     "text": [
      "Hello World!\n",
      "I am Ningaraja D B.\n"
     ]
    }
   ],
   "source": [
    "def concatenate_strings(*args):\n",
    "    result = \"\"\n",
    "    for string in args:\n",
    "        result += string\n",
    "    return result\n",
    "\n",
    "# Using the function with multiple arguments\n",
    "print(concatenate_strings(\"Hello\", \" \", \"World\", \"!\"))\n",
    "print(concatenate_strings(\"I\", \" \", \"am\", \" \", \"Ningaraja D B.\"))\n"
   ]
  },
  {
   "cell_type": "markdown",
   "id": "93788512-d06c-4da8-8221-a6ca46795d60",
   "metadata": {},
   "source": [
    "Q3. What is an iterator in python? Name the method used to initialise the iterator object and the method\n",
    "used for iteration. Use these methods to print the first five elements of the given list [2, 4, 6, 8, 10, 12, 14, 16,\n",
    "18, 20]."
   ]
  },
  {
   "cell_type": "markdown",
   "id": "0ac32442-8f4d-4baa-92c9-2fbb055e4b58",
   "metadata": {},
   "source": [
    "--> In Python, an iterator is an object that allows traversal through a collection of elements one at a time. It provides a way to access the elements of a container sequentially without exposing the underlying implementation details."
   ]
  },
  {
   "cell_type": "markdown",
   "id": "3d8c8d53-04c4-483a-ac70-338cb1840ce4",
   "metadata": {},
   "source": [
    "--> To initialize an iterator object in Python, you can use the iter() method, which takes an iterable object as an argument and returns an iterator object. The iterator object can then be used to iterate over the elements of the collection.\n",
    "\n",
    "To iterate over the elements using the iterator object, you can use the next() method. The next() method retrieves the next element from the iterator. By repeatedly calling next() on the iterator, you can access each element in the collection."
   ]
  },
  {
   "cell_type": "code",
   "execution_count": 33,
   "id": "946be013-e08e-4a6c-af33-12670cda643d",
   "metadata": {
    "tags": []
   },
   "outputs": [
    {
     "name": "stdout",
     "output_type": "stream",
     "text": [
      "2\n",
      "4\n",
      "6\n",
      "8\n",
      "10\n"
     ]
    }
   ],
   "source": [
    "my_list = [2, 4, 6, 8, 10, 12, 14, 16, 18, 20]\n",
    "\n",
    "# Initialize the iterator object\n",
    "my_iterator = iter(my_list)\n",
    "\n",
    "# Iterate over the first five elements\n",
    "for _ in range(5):\n",
    "    element = next(my_iterator)\n",
    "    print(element)\n"
   ]
  },
  {
   "cell_type": "markdown",
   "id": "c8c0b7ba-686d-4780-8761-6131ca4abc5d",
   "metadata": {},
   "source": [
    "Q4. What is a generator function in python? Why yield keyword is used? Give an example of a generator\n",
    "function."
   ]
  },
  {
   "cell_type": "markdown",
   "id": "971a5abf-3a14-4364-bb0e-74bd81681330",
   "metadata": {},
   "source": [
    "In Python, a generator function is a special type of function that generates a sequence of values using the yield keyword. Instead of returning a single value like a regular function, a generator function yields a value one at a time, allowing the caller to iterate over the sequence of values. This makes generator functions an efficient way to generate large sequences or infinite streams of values without needing to store them all in memory.\n",
    "\n",
    "The yield keyword is used in a generator function to define the points at which the function should yield a value. When the yield statement is encountered, the current state of the function is saved, and the yielded value is returned to the caller. The function then pauses its execution, and the next time the function is called, it resumes from where it left off, allowing it to generate the next value in the sequence.\n",
    "\n"
   ]
  },
  {
   "cell_type": "code",
   "execution_count": 34,
   "id": "52272936-426e-42bb-808f-4a2679bd7c1a",
   "metadata": {
    "tags": []
   },
   "outputs": [
    {
     "name": "stdout",
     "output_type": "stream",
     "text": [
      "0\n",
      "2\n",
      "4\n",
      "6\n",
      "8\n"
     ]
    }
   ],
   "source": [
    "def even_numbers(n):\n",
    "    for i in range(n):\n",
    "        if i % 2 == 0:\n",
    "            yield i\n",
    "\n",
    "# Using the generator function\n",
    "even_gen = even_numbers(10)\n",
    "\n",
    "# Iterating over the generated values\n",
    "for num in even_gen:\n",
    "    print(num)\n"
   ]
  },
  {
   "cell_type": "markdown",
   "id": "7726bcee-4509-425a-abe3-49d8b4e0a7ce",
   "metadata": {
    "tags": []
   },
   "source": [
    "Q5. Create a generator function for prime numbers less than 1000. Use the next() method to print the\n",
    "first 20 prime numbers."
   ]
  },
  {
   "cell_type": "code",
   "execution_count": 39,
   "id": "33268014-2a1b-4a70-87ee-6d96bb8e68a5",
   "metadata": {
    "tags": []
   },
   "outputs": [
    {
     "name": "stdout",
     "output_type": "stream",
     "text": [
      "2 3 5 7 11 13 17 19 23 29 31 37 41 43 47 53 59 61 67 71 "
     ]
    }
   ],
   "source": [
    "def prime_generator():\n",
    "    primes = []\n",
    "    num = 2\n",
    "\n",
    "    while True:\n",
    "        is_prime = True\n",
    "\n",
    "        for prime in primes:\n",
    "            if num % prime == 0:\n",
    "                is_prime = False\n",
    "                break\n",
    "\n",
    "        if is_prime:\n",
    "            primes.append(num)\n",
    "            yield num\n",
    "\n",
    "        num += 1\n",
    "        if num >= 1000:\n",
    "            break\n",
    "prime_gen = prime_generator()\n",
    "\n",
    "for _ in range(20):\n",
    "    prime = next(prime_gen)\n",
    "    print(prime, end = ' ')\n"
   ]
  },
  {
   "cell_type": "code",
   "execution_count": null,
   "id": "7c91cbef-b9d3-46f8-bfa6-641b9e0d6d88",
   "metadata": {},
   "outputs": [],
   "source": []
  }
 ],
 "metadata": {
  "kernelspec": {
   "display_name": "Python 3 (ipykernel)",
   "language": "python",
   "name": "python3"
  },
  "language_info": {
   "codemirror_mode": {
    "name": "ipython",
    "version": 3
   },
   "file_extension": ".py",
   "mimetype": "text/x-python",
   "name": "python",
   "nbconvert_exporter": "python",
   "pygments_lexer": "ipython3",
   "version": "3.10.11"
  }
 },
 "nbformat": 4,
 "nbformat_minor": 5
}
