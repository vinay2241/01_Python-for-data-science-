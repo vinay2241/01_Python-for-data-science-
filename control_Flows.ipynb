{
 "cells": [
  {
   "cell_type": "code",
   "execution_count": 1,
   "id": "2a40995c-18a9-435c-b661-2683ab8ee196",
   "metadata": {
    "tags": []
   },
   "outputs": [],
   "source": [
    "# Dynamic programming Launguage\n",
    "a = 10"
   ]
  },
  {
   "cell_type": "code",
   "execution_count": 6,
   "id": "bffd932d-c5db-4975-8a94-ee6d7c5e29c7",
   "metadata": {
    "tags": []
   },
   "outputs": [
    {
     "data": {
      "text/plain": [
       "9874523"
      ]
     },
     "execution_count": 6,
     "metadata": {},
     "output_type": "execute_result"
    }
   ],
   "source": [
    "int('9874523') #Type casting"
   ]
  },
  {
   "cell_type": "code",
   "execution_count": 7,
   "id": "68c8cd35-ed62-473a-9b7f-2fb1c7b8b858",
   "metadata": {
    "tags": []
   },
   "outputs": [
    {
     "name": "stdout",
     "output_type": "stream",
     "text": [
      "Hello Wolrd!\n"
     ]
    }
   ],
   "source": [
    "print(\"Hello Wolrd!\")"
   ]
  },
  {
   "cell_type": "code",
   "execution_count": 15,
   "id": "27f9a9d2-3e03-42b2-85bc-d926f52f05e6",
   "metadata": {
    "tags": []
   },
   "outputs": [
    {
     "name": "stdout",
     "output_type": "stream",
     "text": [
      "My age is: 32\n"
     ]
    }
   ],
   "source": [
    "age = 32 #Variable\n",
    "print(\"My age is:\",age)"
   ]
  },
  {
   "cell_type": "code",
   "execution_count": 19,
   "id": "ef944f27-fe63-40aa-a73d-95a750031ebe",
   "metadata": {
    "tags": []
   },
   "outputs": [
    {
     "name": "stdout",
     "output_type": "stream",
     "text": [
      "My age is: 32\n"
     ]
    }
   ],
   "source": [
    "print(f\"My age is: {age}\") #f-string: To call the Varible inside print statement without writing any (,) Comma"
   ]
  },
  {
   "cell_type": "code",
   "execution_count": 24,
   "id": "73778fcd-9707-4234-85ad-24dec281a738",
   "metadata": {
    "tags": []
   },
   "outputs": [
    {
     "name": "stdout",
     "output_type": "stream",
     "text": [
      "My name is Ningaraja D B and I am studying in the University of BDT College, Davanagere\n"
     ]
    }
   ],
   "source": [
    "#Indexing In The Python Start from Zero\n",
    "name = \"Ningaraja D B\"\n",
    "College = \"University of BDT College, Davanagere\"\n",
    "print(\"My name is {} and I am studying in the {}\".format(name,College))"
   ]
  },
  {
   "cell_type": "code",
   "execution_count": 34,
   "id": "68fd5730-8371-4f7d-a4ca-1142f37bcc8b",
   "metadata": {
    "tags": []
   },
   "outputs": [
    {
     "name": "stdout",
     "output_type": "stream",
     "text": [
      "My native place is Jagaluru and I am staying in Davanagere\n"
     ]
    }
   ],
   "source": [
    "#Place Holder \n",
    "city = \"Davanagere\"\n",
    "native = \"Jagaluru\"\n",
    "print(\"My native place is {my_native} and I am staying in {my_city}\".format(my_native=native,my_city=city))"
   ]
  },
  {
   "cell_type": "code",
   "execution_count": 41,
   "id": "53621ea5-0473-4593-8c5a-824f81ee7d35",
   "metadata": {
    "tags": []
   },
   "outputs": [
    {
     "name": "stdout",
     "output_type": "stream",
     "text": [
      "My name is Ningaraja D B, I am pursing the Degree BE and Interested in the Data Science\n"
     ]
    }
   ],
   "source": [
    "name = \"Ningaraja D B\"\n",
    "degree = \"BE\"\n",
    "career = \"Data Science\"\n",
    "# print(\"My name is {} and I am pursing the degree {} also I am Interested in the field {}\".format(name,degree,career))\n",
    "print(f\"My name is {name}, I am pursing the Degree {degree} and Interested in the {career}\")"
   ]
  },
  {
   "cell_type": "code",
   "execution_count": 42,
   "id": "ccea2e0a-e044-4c87-b8a5-870508aafd4f",
   "metadata": {
    "tags": []
   },
   "outputs": [],
   "source": [
    "#default Data type of the input() Method is String\n",
    "# int(input())  --> it typecast from string to integer"
   ]
  },
  {
   "cell_type": "markdown",
   "id": "c88ff644-bede-47bc-b54c-f7847046f8d6",
   "metadata": {},
   "source": [
    "## Control Flow"
   ]
  },
  {
   "cell_type": "code",
   "execution_count": 12,
   "id": "0f900c48-c909-450b-b55e-14a14cc30c89",
   "metadata": {
    "tags": []
   },
   "outputs": [
    {
     "name": "stdin",
     "output_type": "stream",
     "text": [
      "Enter Your Age: 10\n"
     ]
    },
    {
     "name": "stdout",
     "output_type": "stream",
     "text": [
      "You are Young Blood\n"
     ]
    }
   ],
   "source": [
    "#Task\n",
    "age = int(input(\"Enter Your Age:\"))\n",
    "if age>=18 & age<=45: #We can use (and)-->(&)\n",
    "    print(\"You are Young Blood\")"
   ]
  },
  {
   "cell_type": "code",
   "execution_count": 16,
   "id": "0c3ba62a-1b8d-410d-bd06-113d13386afb",
   "metadata": {
    "tags": []
   },
   "outputs": [
    {
     "name": "stdin",
     "output_type": "stream",
     "text": [
      "Enter Your Age: 48\n"
     ]
    },
    {
     "name": "stdout",
     "output_type": "stream",
     "text": [
      "You are Young Blood\n"
     ]
    }
   ],
   "source": [
    "age = int(input(\"Enter Your Age:\"))\n",
    "if age>=18 & age<=45: #We can use (and)-->(&)\n",
    "    print(\"You are Young Blood\") \n",
    "else:\n",
    "    print(\"Application Rejected!\")"
   ]
  },
  {
   "cell_type": "code",
   "execution_count": 3,
   "id": "6f207775-9f6f-4f50-b6b5-2a26da2244ef",
   "metadata": {},
   "outputs": [
    {
     "name": "stdin",
     "output_type": "stream",
     "text": [
      "Enter the Price of the product:  1000\n"
     ]
    }
   ],
   "source": [
    "#if else statemet\n",
    "\n",
    "price = int(input(\"Enter the Price of the product: \"))\n",
    "if price>3000:\n",
    "    print(\"Congragulation you have got 20% off on product\")\n",
    "    final_price = price - price*0.2\n",
    "    print(\"The Final Price is :\", final_price)\n",
    "elif price>=2000 and price<=3000: \n",
    "    print(\"Congragulation you have 30% off on product\")\n",
    "    final_price = price - price*0.3\n",
    "    print(\"The Final Price is :\", final_price)\n",
    "# else price<=1000 and price<=2000: \n",
    "    print(\"Congragulation you have 40% off on product\")\n",
    "    final_price = price - price*0.4\n",
    "    print(\"The Final Price is :\", final_price)"
   ]
  },
  {
   "cell_type": "code",
   "execution_count": null,
   "id": "56d68121-5f0d-4795-82f6-4a5a96090f2d",
   "metadata": {},
   "outputs": [],
   "source": []
  },
  {
   "cell_type": "code",
   "execution_count": 15,
   "id": "0d2c2213-a71c-41e5-b412-8d0ad84c8115",
   "metadata": {},
   "outputs": [
    {
     "name": "stdout",
     "output_type": "stream",
     "text": [
      "25\n",
      "26\n",
      "27\n",
      "28\n",
      "29\n",
      "30\n",
      "31\n",
      "32\n",
      "33\n",
      "34\n",
      "35\n",
      "36\n",
      "37\n",
      "38\n",
      "39\n",
      "40\n",
      "41\n",
      "42\n",
      "43\n",
      "44\n",
      "45\n",
      "46\n",
      "47\n",
      "48\n",
      "49\n",
      "50\n",
      "Its a Retirement Age\n"
     ]
    }
   ],
   "source": [
    "# While Loop:\n",
    "joining_age = 25\n",
    "while joining_age <= 50:\n",
    "    print(joining_age)\n",
    "    joining_age +=1\n",
    "else:\n",
    "    print(\"Its a Retirement Age\")"
   ]
  },
  {
   "cell_type": "markdown",
   "id": "96e7fa7a-514f-46bc-8f7d-1d300dd0f1ce",
   "metadata": {
    "tags": []
   },
   "source": [
    "# for loop:"
   ]
  },
  {
   "cell_type": "code",
   "execution_count": 19,
   "id": "9f739217-8c55-4d87-b59b-73e549ff2fe4",
   "metadata": {
    "tags": []
   },
   "outputs": [
    {
     "name": "stdout",
     "output_type": "stream",
     "text": [
      "J\n",
      "a\n",
      "i\n",
      "s\n",
      "h\n",
      "r\n",
      "e\n",
      "e\n",
      "r\n",
      "a\n",
      "m\n"
     ]
    }
   ],
   "source": [
    "for x in \"Jaishreeram\":\n",
    "    print(x)\n"
   ]
  },
  {
   "cell_type": "code",
   "execution_count": 7,
   "id": "dd2230e2-d0bb-4ca6-b958-883f15291544",
   "metadata": {
    "tags": []
   },
   "outputs": [
    {
     "name": "stdout",
     "output_type": "stream",
     "text": [
      "12345"
     ]
    }
   ],
   "source": [
    "#Nested Loop\n",
    "#For Range Function\n",
    "for i in range(1,10,):\n",
    "    print(i,end ='')\n",
    "    if i == 5:\n",
    "        break"
   ]
  },
  {
   "cell_type": "code",
   "execution_count": 14,
   "id": "2520028b-3b7e-42ef-9827-17311c2c02fc",
   "metadata": {},
   "outputs": [
    {
     "name": "stdout",
     "output_type": "stream",
     "text": [
      "*\n",
      "**\n",
      "***\n",
      "****\n",
      "*****\n",
      "******\n",
      "*******\n"
     ]
    }
   ],
   "source": [
    "n=7\n",
    "\n",
    "for i in range(0,n):\n",
    "    for j in range(0,i+1):\n",
    "        print(\"*\",end='')\n",
    "    print(\"\\r\")    "
   ]
  },
  {
   "cell_type": "code",
   "execution_count": 23,
   "id": "a18f24f1-a591-4f3d-929f-1175d15fd3fe",
   "metadata": {
    "tags": []
   },
   "outputs": [
    {
     "name": "stdout",
     "output_type": "stream",
     "text": [
      "      * \n",
      "     * * \n",
      "    * * * \n",
      "   * * * * \n",
      "  * * * * * \n",
      " * * * * * * \n",
      "* * * * * * * \n"
     ]
    }
   ],
   "source": [
    "def print_equilateral_triangle(rows):\n",
    "    for i in range(rows):\n",
    "        # Print spaces before the stars\n",
    "        print(\" \" * (rows - i - 1), end=\"\")\n",
    "\n",
    "        # Print stars for this row\n",
    "        print(\"* \" * (i + 1))\n",
    "\n",
    "# Example usage\n",
    "rows = 7\n",
    "print_equilateral_triangle(rows)"
   ]
  },
  {
   "cell_type": "code",
   "execution_count": null,
   "id": "9941b007-e6ca-41e5-a2e9-4bb073050f9e",
   "metadata": {},
   "outputs": [],
   "source": []
  },
  {
   "cell_type": "code",
   "execution_count": null,
   "id": "9afebc4f-6829-4b6e-a3f6-bc1b96430ae8",
   "metadata": {},
   "outputs": [],
   "source": []
  },
  {
   "cell_type": "code",
   "execution_count": null,
   "id": "0f7d5242-5473-4b8a-a7fd-98bd5d77137a",
   "metadata": {},
   "outputs": [],
   "source": []
  },
  {
   "cell_type": "code",
   "execution_count": null,
   "id": "ada3ab63-cb5c-45b5-bcd9-174204f8c9ac",
   "metadata": {},
   "outputs": [],
   "source": []
  }
 ],
 "metadata": {
  "kernelspec": {
   "display_name": "Python 3 (ipykernel)",
   "language": "python",
   "name": "python3"
  },
  "language_info": {
   "codemirror_mode": {
    "name": "ipython",
    "version": 3
   },
   "file_extension": ".py",
   "mimetype": "text/x-python",
   "name": "python",
   "nbconvert_exporter": "python",
   "pygments_lexer": "ipython3",
   "version": "3.10.11"
  }
 },
 "nbformat": 4,
 "nbformat_minor": 5
}
