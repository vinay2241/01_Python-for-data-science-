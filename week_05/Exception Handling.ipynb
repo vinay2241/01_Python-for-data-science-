{
 "cells": [
  {
   "cell_type": "markdown",
   "id": "ebbb1151",
   "metadata": {},
   "source": [
    "Q1 What is the exception in the python? Write the difference between the exception and Syntax Errors?"
   ]
  },
  {
   "cell_type": "markdown",
   "id": "0fabafa3",
   "metadata": {},
   "source": [
    "An exception in Python is an event that occurs during the execution of a program, which disrupts the normal flow of the program's instructions. Exceptions are raised when an error or exceptional condition occurs, such as when trying to divide by zero or accessing a variable that does not exist.\n",
    "\n",
    "The main difference between exceptions and syntax errors is that exceptions are runtime errors that occur during program execution, whereas syntax errors are coding errors detected by the Python interpreter before the program starts running."
   ]
  },
  {
   "cell_type": "markdown",
   "id": "b6451920",
   "metadata": {},
   "source": [
    "Q2. What happens when an exception is not handled?"
   ]
  },
  {
   "cell_type": "markdown",
   "id": "0078eff3",
   "metadata": {},
   "source": [
    "When an exception is not handled, it leads to program termination and an error message called a traceback is displayed. The traceback provides information about the exception type, the line of code where the exception occurred, and the call stack."
   ]
  },
  {
   "cell_type": "code",
   "execution_count": 3,
   "id": "dfe7c809",
   "metadata": {},
   "outputs": [
    {
     "ename": "ZeroDivisionError",
     "evalue": "division by zero",
     "output_type": "error",
     "traceback": [
      "\u001b[1;31m---------------------------------------------------------------------------\u001b[0m",
      "\u001b[1;31mZeroDivisionError\u001b[0m                         Traceback (most recent call last)",
      "Cell \u001b[1;32mIn[3], line 6\u001b[0m\n\u001b[0;32m      3\u001b[0m     \u001b[38;5;28mprint\u001b[39m(result)\n\u001b[0;32m      5\u001b[0m \u001b[38;5;66;03m# Exception not handled\u001b[39;00m\n\u001b[1;32m----> 6\u001b[0m \u001b[43mdivide\u001b[49m\u001b[43m(\u001b[49m\u001b[38;5;241;43m10\u001b[39;49m\u001b[43m,\u001b[49m\u001b[43m \u001b[49m\u001b[38;5;241;43m0\u001b[39;49m\u001b[43m)\u001b[49m  \u001b[38;5;66;03m# ZeroDivisionError: division by zero\u001b[39;00m\n",
      "Cell \u001b[1;32mIn[3], line 2\u001b[0m, in \u001b[0;36mdivide\u001b[1;34m(a, b)\u001b[0m\n\u001b[0;32m      1\u001b[0m \u001b[38;5;28;01mdef\u001b[39;00m \u001b[38;5;21mdivide\u001b[39m(a, b):\n\u001b[1;32m----> 2\u001b[0m     result \u001b[38;5;241m=\u001b[39m \u001b[43ma\u001b[49m\u001b[43m \u001b[49m\u001b[38;5;241;43m/\u001b[39;49m\u001b[43m \u001b[49m\u001b[43mb\u001b[49m\n\u001b[0;32m      3\u001b[0m     \u001b[38;5;28mprint\u001b[39m(result)\n",
      "\u001b[1;31mZeroDivisionError\u001b[0m: division by zero"
     ]
    }
   ],
   "source": [
    "def divide(a, b):\n",
    "    result = a / b\n",
    "    print(result)\n",
    "\n",
    "# Exception not handled\n",
    "divide(10, 0)  # ZeroDivisionError: division by zero"
   ]
  },
  {
   "cell_type": "markdown",
   "id": "6b964b11",
   "metadata": {},
   "source": [
    "Q3. Which python statement is used to cath and handle the exceptions? Explain with one Example."
   ]
  },
  {
   "cell_type": "code",
   "execution_count": 13,
   "id": "bcf592b4",
   "metadata": {},
   "outputs": [
    {
     "name": "stdout",
     "output_type": "stream",
     "text": [
      "Error: Division by zero\n"
     ]
    }
   ],
   "source": [
    "# try-except: This statement is used to catch and handle exceptions.\n",
    "# Code that may raise an exception is placed inside the try block, and if an exception occurs, \n",
    "# it is caught and handled in the corresponding except block.try:\n",
    "   \n",
    "try:\n",
    "    result = 10 / 0\n",
    "    print(result)\n",
    "except ZeroDivisionError:\n",
    "    print(\"Error: Division by zero\")"
   ]
  },
  {
   "cell_type": "markdown",
   "id": "5891fddd",
   "metadata": {},
   "source": [
    "Q4. Explain the following:\n",
    "    a.try and else\n",
    "    b.finally\n",
    "    c.raised"
   ]
  },
  {
   "cell_type": "markdown",
   "id": "cbfb78a3",
   "metadata": {},
   "source": [
    "In Python, the try-else statement is used to handle exceptions in a structured way. It allows you to specify a block of code to be executed if no exceptions occur within a try block. This can be useful when you want to perform certain actions only when there are no exceptions raised."
   ]
  },
  {
   "cell_type": "code",
   "execution_count": 16,
   "id": "df00aca9",
   "metadata": {},
   "outputs": [
    {
     "name": "stdout",
     "output_type": "stream",
     "text": [
      "The result is: 5.0\n",
      "Error: Cannot divide by zero!\n"
     ]
    }
   ],
   "source": [
    "def divide_numbers(a, b):\n",
    "    try:\n",
    "        result = a / b\n",
    "    except ZeroDivisionError:\n",
    "        print(\"Error: Cannot divide by zero!\")\n",
    "    else:\n",
    "        print(\"The result is:\", result)\n",
    "\n",
    "# Example 1: Division with non-zero denominator\n",
    "divide_numbers(10, 2)   # Output: The result is: 5.0\n",
    "\n",
    "# Example 2: Division by zero\n",
    "divide_numbers(10, 0)   # Output: Error: Cannot divide by zero!\n"
   ]
  },
  {
   "cell_type": "markdown",
   "id": "fce910e2",
   "metadata": {},
   "source": [
    "In Python, the finally keyword is used in conjunction with the try and except blocks to define a code section that will always be executed, regardless of whether an exception occurs or not. This allows you to specify cleanup code that needs to run regardless of the outcome of the code inside the try block."
   ]
  },
  {
   "cell_type": "code",
   "execution_count": 17,
   "id": "36de9c51",
   "metadata": {},
   "outputs": [
    {
     "name": "stdout",
     "output_type": "stream",
     "text": [
      "The result of 10 divided by 2 is 5.0\n",
      "Division operation completed.\n",
      "Error: Cannot divide by zero!\n",
      "Division operation completed.\n"
     ]
    }
   ],
   "source": [
    "def divide_numbers(a, b):\n",
    "    try:\n",
    "        result = a / b\n",
    "        print(f\"The result of {a} divided by {b} is {result}\")\n",
    "    except ZeroDivisionError:\n",
    "        print(\"Error: Cannot divide by zero!\")\n",
    "    finally:\n",
    "        print(\"Division operation completed.\")\n",
    "\n",
    "# Example calls\n",
    "divide_numbers(10, 2)\n",
    "divide_numbers(10, 0)\n"
   ]
  },
  {
   "cell_type": "markdown",
   "id": "10d6fb45",
   "metadata": {},
   "source": [
    "Exceptions in Python can be raised using the raise keyword. This keyword is followed by an instance of an exception class or an exception object. When the raise statement is executed, it interrupts the normal execution of the program and transfers control to the nearest exception handler."
   ]
  },
  {
   "cell_type": "code",
   "execution_count": 18,
   "id": "f901d3a0",
   "metadata": {},
   "outputs": [
    {
     "name": "stdout",
     "output_type": "stream",
     "text": [
      "Error: Cannot divide by zero\n"
     ]
    }
   ],
   "source": [
    "def divide_numbers(a, b):\n",
    "    if b == 0:\n",
    "        raise ValueError(\"Cannot divide by zero\")\n",
    "    else:\n",
    "        return a / b\n",
    "\n",
    "try:\n",
    "    result = divide_numbers(10, 0)\n",
    "    print(\"Result:\", result)\n",
    "except ValueError as e:\n",
    "    print(\"Error:\", str(e))\n"
   ]
  },
  {
   "cell_type": "markdown",
   "id": "18911480",
   "metadata": {},
   "source": [
    "Q4.Explain me the exception in custom exception in the python? why do they used in python?Explain with one example\n",
    "\n"
   ]
  },
  {
   "cell_type": "markdown",
   "id": "4a44391e",
   "metadata": {},
   "source": [
    "\n",
    "In Python, you can create custom exceptions by defining new classes that inherit from the built-in Exception class or any of its subclasses. Custom exceptions are used to handle specific types of errors or exceptional conditions that are relevant to your program."
   ]
  },
  {
   "cell_type": "markdown",
   "id": "686f4fa3",
   "metadata": {},
   "source": [
    "1.Code organization\n",
    "2.Error Sprcificity\n",
    "3. Exception Handling"
   ]
  },
  {
   "cell_type": "code",
   "execution_count": 20,
   "id": "e724acab",
   "metadata": {},
   "outputs": [
    {
     "name": "stdout",
     "output_type": "stream",
     "text": [
      "Error: Cannot calculate square root of a negative number\n"
     ]
    }
   ],
   "source": [
    "class InvalidInputError(Exception):\n",
    "    pass\n",
    "\n",
    "def calculate_square_root(n):\n",
    "    if n < 0:\n",
    "        raise InvalidInputError(\"Cannot calculate square root of a negative number\")\n",
    "    else:\n",
    "        return n ** 0.5\n",
    "\n",
    "try:\n",
    "    result = calculate_square_root(-4)\n",
    "    print(\"Square root:\", result)\n",
    "except InvalidInputError as e:\n",
    "    print(\"Error:\", str(e))\n"
   ]
  },
  {
   "cell_type": "markdown",
   "id": "501a6ff4",
   "metadata": {},
   "source": [
    "Q6. Create the custome exception class? Use this class to handle the exception"
   ]
  },
  {
   "cell_type": "code",
   "execution_count": null,
   "id": "c96fce6c",
   "metadata": {},
   "outputs": [],
   "source": []
  }
 ],
 "metadata": {
  "kernelspec": {
   "display_name": "Python 3 (ipykernel)",
   "language": "python",
   "name": "python3"
  },
  "language_info": {
   "codemirror_mode": {
    "name": "ipython",
    "version": 3
   },
   "file_extension": ".py",
   "mimetype": "text/x-python",
   "name": "python",
   "nbconvert_exporter": "python",
   "pygments_lexer": "ipython3",
   "version": "3.10.11"
  }
 },
 "nbformat": 4,
 "nbformat_minor": 5
}
