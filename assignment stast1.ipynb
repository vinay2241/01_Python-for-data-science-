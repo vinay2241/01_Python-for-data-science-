{
 "cells": [
  {
   "cell_type": "markdown",
   "id": "4c49c0ed-42a6-4442-9693-b676147dfb9b",
   "metadata": {},
   "source": [
    "Q1.What is Statistics?"
   ]
  },
  {
   "cell_type": "markdown",
   "id": "d4a912b9-6b37-4aaa-bd3c-f1d40c2616df",
   "metadata": {},
   "source": [
    "Statistics science of collecting analysing and organising the data for decision making process"
   ]
  },
  {
   "cell_type": "markdown",
   "id": "438dbe09-bb09-4a23-9be5-03025c647891",
   "metadata": {},
   "source": [
    "Q2. Define the different types of statistics and give an example of when each type might be used."
   ]
  },
  {
   "cell_type": "markdown",
   "id": "c14939ec-0850-4a53-a0dc-8bb18a280d54",
   "metadata": {
    "tags": []
   },
   "source": [
    "Types of statistics are:\n",
    "    1. Descriptive statistics : The process of organising and summarising the data\n",
    "    Eg: Height of a sample population suppose you wanted to analyse the height of a samples of population of the students in a college you collect data on the height of 100 students and want to summarise the information using descriptive statistics.\n",
    "    2. inferential statistics : The process of using the data measured for drawing the conclusions\n",
    "    Eg: Opinion poll on voting preferences suppose you want to conduct an opinion poll to estimate the voting preferences of a larger population. You randomly select 5 hundred registered voters and ask them about their preferred political party. Based on the responses, you can use the inferential statistics to make predictions about the entire population"
   ]
  },
  {
   "cell_type": "markdown",
   "id": "34c4e730-491e-46d7-896a-f5a7d20991c8",
   "metadata": {},
   "source": [
    "Q3. What are the different types of data and how do they differ from each other? Provide an example of\n",
    "each type of data."
   ]
  },
  {
   "cell_type": "markdown",
   "id": "54b3fd30-914c-429c-b6c5-d847df510b5d",
   "metadata": {},
   "source": [
    "Data are classified into two types:\n",
    "    1. Qualitative data\n",
    "        a. Nominal data Eg: Gender, blood group and colour\n",
    "        b. ordinal data Eg: Rank\n",
    "    2. Quantitative data\n",
    "        a. discreet datae Eg: whole number\n",
    "        b. Continuous data Eg: Any numbers\n",
    "  "
   ]
  },
  {
   "cell_type": "markdown",
   "id": "34abb233-795d-4ad4-9b4c-16c2aad344d1",
   "metadata": {},
   "source": [
    "Q4. Categorise the following datasets with respect to quantitative and qualitative data types:\n",
    "(i) Grading in exam: A+, A, B+, B, C+, C, D, E --> Qualitative data\n",
    "(ii) Colour of mangoes: yellow, green, orange, red --> Qualitative data\n",
    "(iii) Height data of a class: [178.9, 179, 179.5, 176, 177.2, 178.3, 175.8,...] --> Quantitative data\n",
    "(iv) Number of mangoes exported by a farm: [500, 600, 478, 672, ...]--> Quantitative data "
   ]
  },
  {
   "cell_type": "markdown",
   "id": "c5b1909a-a2ea-4657-9e04-85504ffd9532",
   "metadata": {},
   "source": [
    "Q5. Explain the concept of levels of measurement and give an example of a variable for each level."
   ]
  },
  {
   "cell_type": "markdown",
   "id": "eb589c3d-e51e-42d7-933d-a47eb5b7cf8b",
   "metadata": {},
   "source": [
    "There are four types of level of measurements they are:\n",
    "    1. Nominal scale \n",
    "    2. Ordinal ratio scale\n",
    "    3. ratio scale \n",
    "    4. interval scale"
   ]
  },
  {
   "cell_type": "markdown",
   "id": "dad29808-79c5-4708-80d5-1abb738b44d0",
   "metadata": {},
   "source": [
    "Q6. Why is it important to understand the level of measurement when analyzing data? Provide an\n",
    "example to illustrate your answer."
   ]
  },
  {
   "cell_type": "markdown",
   "id": "fab819f8-4c16-4aac-83b5-6766fa44ffb5",
   "metadata": {
    "tags": []
   },
   "source": [
    "Understanding the level of measurement is crucial when analyzing data because it determines the types of statistical analyses and operations that can be performed on the data, as well as the appropriate interpretation of the results. Different levels of measurement have varying properties and restrictions, and knowing the level of measurement helps researchers choose appropriate statistical techniques and draw accurate conclusions.\n",
    "\n",
    "There are four commonly recognized levels of measurement:\n",
    "\n",
    "1. Nominal: In nominal measurement, data is categorized into distinct categories or groups without any quantitative value or order. Examples include gender (male/female) or car colors (red/blue/green). The only operation that can be performed on nominal data is counting and determining frequencies of categories.\n",
    "\n",
    "2. Ordinal: In ordinal measurement allows for rank ordering of categories, but the differences between the categories are not necessarily equal or measurable. An example could be a Likert scale where respondents rate their agreement with a statement on a scale of 1 to 5 (e.g., strongly disagree, disagree, neutral, agree, strongly agree). In ordinal data, you can perform operations like ranking and calculating median, but not meaningful arithmetic operations like addition or multiplication.\n",
    "\n",
    "3. Interval: In interval measurement, the differences between the values are meaningful and consistent, but there is no true zero point. Temperature measured in Celsius or Fahrenheit is an example of interval data. In interval data, you can perform arithmetic operations like addition and subtraction, but multiplication and division are not meaningful. It allows for calculating measures such as mean, standard deviation, and performing various statistical tests.\n",
    "\n",
    "4. Ratio: Ratio measurement possesses all the properties of interval measurement, but with an absolute zero point. Examples include height, weight, or income. Ratio data allows for all arithmetic operations, including multiplication and division. You can calculate measures like mean, standard deviation, as well as perform advanced statistical analyses like regression analysis and t-tests.\n",
    "\n",
    "Now, let's consider an example to illustrate the importance of understanding the level of measurement. Suppose you are analyzing the performance of students in a school and you have collected data on their grades in various subjects. The levels of measurement may vary depending on the subject and the type of assessment.\n",
    "\n",
    "If you are analyzing the data for a subject with nominal level measurement, such as the pass/fail status of students in a course, you can only determine the frequencies of students who passed or failed. You cannot calculate an average or perform other mathematical operations.\n",
    "\n",
    "On the other hand, if you are analyzing the data for a subject with ratio level measurement, such as the scores obtained in a math exam, you can calculate the mean, standard deviation, and other statistical measures. You can also perform advanced analyses like comparing the performance of different groups using t-tests or conducting regression analysis to determine the factors influencing the scores.\n",
    "\n",
    "Understanding the level of measurement ensures that appropriate statistical techniques are applied, preventing the misuse of data and providing accurate and meaningful results."
   ]
  },
  {
   "cell_type": "markdown",
   "id": "57c3af6a-8ca5-48cb-8455-3422bc1b1131",
   "metadata": {},
   "source": [
    "Q7. How nominal data type is different from ordinal data type."
   ]
  },
  {
   "cell_type": "markdown",
   "id": "d06fc460-b874-4c04-b65d-5b2d5c7541d9",
   "metadata": {},
   "source": [
    "Nominal and ordinal data types are both categories of qualitative or categorical data, but they differ in terms of the level of information they provide and the types of analyses that can be performed on them.\n",
    "\n",
    "1. Nominal Data:\n",
    "   - Nominal data consists of categories or groups without any inherent order or ranking.\n",
    "   - Examples of nominal data include gender (male/female), eye color (blue/brown/green), or car brands (Toyota/Honda/Ford).\n",
    "   - In nominal data, the categories are mutually exclusive and there is no numerical or quantitative value associated with them.\n",
    "   - The main operation that can be performed on nominal data is counting and determining frequencies of categories.\n",
    "   - Statistical analyses on nominal data involve descriptive statistics like mode (most frequently occurring category) or chi-square tests for comparing frequencies between categories.\n",
    "\n",
    "2. Ordinal Data:\n",
    "   - Ordinal data, unlike nominal data, has a natural order or ranking between categories.\n",
    "   - Examples of ordinal data include Likert scales (e.g., strongly disagree, disagree, neutral, agree, strongly agree), education level (high school, bachelor's degree, master's degree, Ph.D.), or movie ratings (1 star, 2 stars, 3 stars, etc.).\n",
    "   - The categories in ordinal data can be ordered or ranked based on a specific attribute, but the intervals between the categories may not be equal or quantifiable.\n",
    "   - Arithmetic operations like addition, subtraction, multiplication, or division are not meaningful for ordinal data.\n",
    "   - Statistical analyses on ordinal data involve measures like median (middle value), percentile ranks, or non-parametric tests like Mann-Whitney U test or Spearman's rank correlation.\n"
   ]
  },
  {
   "cell_type": "markdown",
   "id": "270967bb-80bc-4305-ab4f-b9b5b6f083cd",
   "metadata": {},
   "source": [
    "Q8. Which type of plot can be used to display data in terms of range?"
   ]
  },
  {
   "cell_type": "markdown",
   "id": "08a6e8d2-f480-4895-b587-6b43e73a47af",
   "metadata": {},
   "source": [
    "A box plot, also known as a box-and-whisker plot, is commonly used to display data in terms of range. A box plot provides a visual representation of the minimum, first quartile (25th percentile), median (50th percentile), third quartile (75th percentile), and maximum values of a dataset.\n",
    "\n",
    "Here's how a box plot displays the range of data:\n",
    "\n",
    "- A rectangular box is drawn to represent the interquartile range (IQR), which spans from the first quartile (Q1) to the third quartile (Q3). The length of the box represents the spread of the middle 50% of the data.\n",
    "- A vertical line inside the box represents the median (Q2), which divides the dataset into two equal halves.\n",
    "- Two vertical lines, called whiskers, extend from the edges of the box to the minimum and maximum values of the dataset. These whiskers indicate the range of the data.\n",
    "- Sometimes, outliers are displayed as individual data points beyond the whiskers.\n",
    "\n",
    "By visually representing the range of data using a box plot, it becomes easier to observe the spread, central tendency, and any potential outliers in a dataset. Box plots are particularly useful for comparing distributions across different categories or groups, identifying skewness, and detecting any extreme values or anomalies.\n"
   ]
  },
  {
   "cell_type": "markdown",
   "id": "35180e12-f6a1-4fed-8fb0-d1fe6d6cb20b",
   "metadata": {},
   "source": [
    "Q9. Describe the difference between descriptive and inferential statistics. Give an example of each\n",
    "type of statistics and explain how they are used."
   ]
  },
  {
   "cell_type": "markdown",
   "id": "c82a5946-a3dc-49cb-89fb-494530fc5bdf",
   "metadata": {},
   "source": [
    "\n",
    "|       | Descriptive Statistics  | Inferential Statistics |\n",
    "|-------|------------------------|-----------------------|\n",
    "| Purpose | Summarize and describe the main features of a dataset | Make inferences and draw conclusions about a population based on sample data |\n",
    "| Data Focus | Entire dataset | Sample of data |\n",
    "| Goal | Provide a snapshot of the data and reveal patterns, trends, and central tendencies | Extend conclusions beyond the observed sample to the larger population |\n",
    "| Examples | Calculating mean, median, mode, and standard deviation of heights in a population | Performing hypothesis testing to determine if there is a significant difference in average heights between males and females |\n",
    "| Key Features | Central tendency measures (mean, median, mode) and variability measures (range, standard deviation) | Probability theory, hypothesis testing, estimation, and prediction |\n",
    "| Visualization | Graphs and charts (histograms, bar charts) to display data distributions | Results and confidence intervals based on statistical tests |\n",
    "| Goal | Provide insights into the characteristics of a dataset | Make generalizations and predictions about populations |\n",
    "| Population vs. Sample | Entire population (all data points) | Subset of the population (selected sample) |\n",
    "| Usage | Initial exploration and summary of data | Drawing conclusions, testing hypotheses, and making predictions |\n"
   ]
  },
  {
   "cell_type": "markdown",
   "id": "928da30c-f7a4-4929-8b17-5115c8629780",
   "metadata": {},
   "source": [
    "Q10. What are some common measures of central tendency and variability used in statistics? Explain\n",
    "how each measure can be used to describe a dataset.\n"
   ]
  },
  {
   "cell_type": "markdown",
   "id": "a19dddbc-6d11-4f10-9fdb-7a3ca52b4522",
   "metadata": {
    "tags": []
   },
   "source": [
    "\n",
    "Measures of Central Tendency:\n",
    "1. Mean: The mean is the most common measure of central tendency. It is calculated by summing all the values in a dataset and dividing by the total number of observations. The mean provides an average value that represents the center of the dataset. It is sensitive to extreme values and is widely used when the data is normally distributed or symmetric.\n",
    "\n",
    "The mean is used to describe a dataset by providing an estimate of the typical or average value. It can help in understanding the overall level or magnitude of the data and can be used for comparisons between groups or different time periods.\n",
    "\n",
    "2. Median: The median is the middle value when the data is arranged in ascending or descending order. It divides the dataset into two equal halves. If the dataset has an even number of observations, the median is the average of the two middle values. The median is less affected by extreme values compared to the mean and is preferred when the data is skewed or contains outliers.\n",
    "\n",
    "The median is used to describe a dataset by providing a measure of central tendency that is robust to extreme values. It represents the middle value in the dataset and is particularly useful when the distribution is not symmetrical.\n",
    "\n",
    "3. Mode: The mode represents the most frequently occurring value or values in a dataset. It can be used for both qualitative and quantitative data. Unlike the mean and median, the mode is not influenced by the magnitude of the values and can be applied to any type of distribution.\n",
    "\n",
    "The mode is used to describe a dataset by identifying the most common value(s). It can be helpful in identifying the prominent category or value in a dataset.\n",
    "\n",
    "Measures of Variability:\n",
    "1. Range: The range is the simplest measure of variability and is calculated as the difference between the maximum and minimum values in a dataset. It provides an indication of the spread of the data.\n",
    "\n",
    "The range is used to describe a dataset by providing an estimate of the extent of variability in the data. It is easy to calculate but is sensitive to extreme values and doesn't account for the distribution between the maximum and minimum.\n",
    "\n",
    "2. Variance: Variance measures the average squared deviation of each value from the mean. It quantifies the spread or dispersion of the data. The squared deviations ensure that negative and positive differences do not cancel each other out.\n",
    "\n",
    "Variance is used to describe a dataset by providing a measure of the average squared distance of the observations from the mean. However, variance is in squared units and can be difficult to interpret on its own.\n",
    "\n",
    "3. Standard Deviation: The standard deviation is the square root of the variance. It represents the average deviation of each value from the mean. The standard deviation is widely used due to its intuitive interpretation and its ability to provide a measure of spread in the same units as the original data.\n",
    "\n",
    "Standard deviation is used to describe a dataset by quantifying the average distance of the observations from the mean. It provides a measure of spread that is easy to interpret and compare across different datasets.\n",
    "\n"
   ]
  },
  {
   "cell_type": "code",
   "execution_count": null,
   "id": "9fe209dd-5621-43bf-9bb3-5a6f392d8e7a",
   "metadata": {},
   "outputs": [],
   "source": []
  }
 ],
 "metadata": {
  "kernelspec": {
   "display_name": "Python 3 (ipykernel)",
   "language": "python",
   "name": "python3"
  },
  "language_info": {
   "codemirror_mode": {
    "name": "ipython",
    "version": 3
   },
   "file_extension": ".py",
   "mimetype": "text/x-python",
   "name": "python",
   "nbconvert_exporter": "python",
   "pygments_lexer": "ipython3",
   "version": "3.10.11"
  }
 },
 "nbformat": 4,
 "nbformat_minor": 5
}
